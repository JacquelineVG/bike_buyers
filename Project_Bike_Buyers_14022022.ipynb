{
 "cells": [
  {
   "cell_type": "raw",
   "metadata": {},
   "source": [
    "PROJECT:\n",
    "\n",
    "    To predict if a given person will buy or not a bike\n",
    "    Y = action to buy a bike or not\n",
    "    X = marital status, gender, incomde, children, eduction, occupation, home owner, cars, commute distance, region, age"
   ]
  },
  {
   "cell_type": "markdown",
   "metadata": {},
   "source": [
    "# Import Libraries"
   ]
  },
  {
   "cell_type": "code",
   "execution_count": 1,
   "metadata": {},
   "outputs": [],
   "source": [
    "# To import Python libraries\n",
    "import pandas as pd\n",
    "import numpy as np # Not always necessary\n",
    "import matplotlib.pyplot as plt # Not always necessary\n",
    "import seaborn as sns # Not always necessary\n",
    "from sklearn.model_selection import train_test_split # Used for supervised machine learning\n",
    "from sklearn.preprocessing import StandardScaler, OneHotEncoder, LabelEncoder # Used for supervised machine learning\n",
    "from sklearn.compose import ColumnTransformer # Used for supervised machine learning\n",
    "from sklearn.linear_model import LogisticRegression # Used for supervised machine learning\n",
    "from sklearn.tree import DecisionTreeClassifier # Used for supervised machine learning\n",
    "from sklearn.ensemble import RandomForestClassifier # Used for supervised machine learning\n",
    "from sklearn.metrics import plot_confusion_matrix # Used for supervised machine learning\n",
    "from sklearn.impute import SimpleImputer # Used for supervised machine learning"
   ]
  },
  {
   "cell_type": "code",
   "execution_count": 2,
   "metadata": {},
   "outputs": [],
   "source": [
    "# To load the data\n",
    "df = pd.read_csv ('bike_buyers.csv') "
   ]
  },
  {
   "cell_type": "code",
   "execution_count": 3,
   "metadata": {},
   "outputs": [],
   "source": [
    "for i in range (len(df)):\n",
    "    if df[\"Gender\"][i]==\"Yes\":\n",
    "        #df[\"Gender\"][i]= df.drop(df[\"Gender\"][i])\n",
    "        print(i)"
   ]
  },
  {
   "cell_type": "code",
   "execution_count": 4,
   "metadata": {},
   "outputs": [
    {
     "data": {
      "text/plain": [
       "Male      500\n",
       "Female    489\n",
       "Name: Gender, dtype: int64"
      ]
     },
     "execution_count": 4,
     "metadata": {},
     "output_type": "execute_result"
    }
   ],
   "source": [
    "df[\"Gender\"].value_counts()"
   ]
  },
  {
   "cell_type": "code",
   "execution_count": 5,
   "metadata": {},
   "outputs": [
    {
     "data": {
      "text/html": [
       "<div>\n",
       "<style scoped>\n",
       "    .dataframe tbody tr th:only-of-type {\n",
       "        vertical-align: middle;\n",
       "    }\n",
       "\n",
       "    .dataframe tbody tr th {\n",
       "        vertical-align: top;\n",
       "    }\n",
       "\n",
       "    .dataframe thead th {\n",
       "        text-align: right;\n",
       "    }\n",
       "</style>\n",
       "<table border=\"1\" class=\"dataframe\">\n",
       "  <thead>\n",
       "    <tr style=\"text-align: right;\">\n",
       "      <th></th>\n",
       "      <th>ID</th>\n",
       "      <th>Marital Status</th>\n",
       "      <th>Gender</th>\n",
       "      <th>Income</th>\n",
       "      <th>Children</th>\n",
       "      <th>Education</th>\n",
       "      <th>Occupation</th>\n",
       "      <th>Home Owner</th>\n",
       "      <th>Cars</th>\n",
       "      <th>Commute Distance</th>\n",
       "      <th>Region</th>\n",
       "      <th>Age</th>\n",
       "      <th>Purchased Bike</th>\n",
       "    </tr>\n",
       "  </thead>\n",
       "  <tbody>\n",
       "    <tr>\n",
       "      <th>0</th>\n",
       "      <td>12496</td>\n",
       "      <td>Married</td>\n",
       "      <td>Female</td>\n",
       "      <td>40000.0</td>\n",
       "      <td>1.0</td>\n",
       "      <td>Bachelors</td>\n",
       "      <td>Skilled Manual</td>\n",
       "      <td>Yes</td>\n",
       "      <td>0.0</td>\n",
       "      <td>0-1 Miles</td>\n",
       "      <td>Europe</td>\n",
       "      <td>42.0</td>\n",
       "      <td>No</td>\n",
       "    </tr>\n",
       "    <tr>\n",
       "      <th>1</th>\n",
       "      <td>24107</td>\n",
       "      <td>Married</td>\n",
       "      <td>Male</td>\n",
       "      <td>30000.0</td>\n",
       "      <td>3.0</td>\n",
       "      <td>Partial College</td>\n",
       "      <td>Clerical</td>\n",
       "      <td>Yes</td>\n",
       "      <td>1.0</td>\n",
       "      <td>0-1 Miles</td>\n",
       "      <td>Europe</td>\n",
       "      <td>43.0</td>\n",
       "      <td>No</td>\n",
       "    </tr>\n",
       "    <tr>\n",
       "      <th>2</th>\n",
       "      <td>14177</td>\n",
       "      <td>Married</td>\n",
       "      <td>Male</td>\n",
       "      <td>80000.0</td>\n",
       "      <td>5.0</td>\n",
       "      <td>Partial College</td>\n",
       "      <td>Professional</td>\n",
       "      <td>No</td>\n",
       "      <td>2.0</td>\n",
       "      <td>2-5 Miles</td>\n",
       "      <td>Europe</td>\n",
       "      <td>60.0</td>\n",
       "      <td>No</td>\n",
       "    </tr>\n",
       "    <tr>\n",
       "      <th>3</th>\n",
       "      <td>24381</td>\n",
       "      <td>Single</td>\n",
       "      <td>NaN</td>\n",
       "      <td>70000.0</td>\n",
       "      <td>0.0</td>\n",
       "      <td>Bachelors</td>\n",
       "      <td>Professional</td>\n",
       "      <td>Yes</td>\n",
       "      <td>1.0</td>\n",
       "      <td>5-10 Miles</td>\n",
       "      <td>Pacific</td>\n",
       "      <td>41.0</td>\n",
       "      <td>Yes</td>\n",
       "    </tr>\n",
       "    <tr>\n",
       "      <th>4</th>\n",
       "      <td>25597</td>\n",
       "      <td>Single</td>\n",
       "      <td>Male</td>\n",
       "      <td>30000.0</td>\n",
       "      <td>0.0</td>\n",
       "      <td>Bachelors</td>\n",
       "      <td>Clerical</td>\n",
       "      <td>No</td>\n",
       "      <td>0.0</td>\n",
       "      <td>0-1 Miles</td>\n",
       "      <td>Europe</td>\n",
       "      <td>36.0</td>\n",
       "      <td>Yes</td>\n",
       "    </tr>\n",
       "  </tbody>\n",
       "</table>\n",
       "</div>"
      ],
      "text/plain": [
       "      ID Marital Status  Gender   Income  Children        Education  \\\n",
       "0  12496        Married  Female  40000.0       1.0        Bachelors   \n",
       "1  24107        Married    Male  30000.0       3.0  Partial College   \n",
       "2  14177        Married    Male  80000.0       5.0  Partial College   \n",
       "3  24381         Single     NaN  70000.0       0.0        Bachelors   \n",
       "4  25597         Single    Male  30000.0       0.0        Bachelors   \n",
       "\n",
       "       Occupation Home Owner  Cars Commute Distance   Region   Age  \\\n",
       "0  Skilled Manual        Yes   0.0        0-1 Miles   Europe  42.0   \n",
       "1        Clerical        Yes   1.0        0-1 Miles   Europe  43.0   \n",
       "2    Professional         No   2.0        2-5 Miles   Europe  60.0   \n",
       "3    Professional        Yes   1.0       5-10 Miles  Pacific  41.0   \n",
       "4        Clerical         No   0.0        0-1 Miles   Europe  36.0   \n",
       "\n",
       "  Purchased Bike  \n",
       "0             No  \n",
       "1             No  \n",
       "2             No  \n",
       "3            Yes  \n",
       "4            Yes  "
      ]
     },
     "execution_count": 5,
     "metadata": {},
     "output_type": "execute_result"
    }
   ],
   "source": [
    "# To Visualize Dataset (1st solution)\n",
    "df.head()"
   ]
  },
  {
   "cell_type": "code",
   "execution_count": 6,
   "metadata": {},
   "outputs": [
    {
     "data": {
      "text/html": [
       "<div>\n",
       "<style scoped>\n",
       "    .dataframe tbody tr th:only-of-type {\n",
       "        vertical-align: middle;\n",
       "    }\n",
       "\n",
       "    .dataframe tbody tr th {\n",
       "        vertical-align: top;\n",
       "    }\n",
       "\n",
       "    .dataframe thead th {\n",
       "        text-align: right;\n",
       "    }\n",
       "</style>\n",
       "<table border=\"1\" class=\"dataframe\">\n",
       "  <thead>\n",
       "    <tr style=\"text-align: right;\">\n",
       "      <th></th>\n",
       "      <th>ID</th>\n",
       "      <th>Marital Status</th>\n",
       "      <th>Gender</th>\n",
       "      <th>Income</th>\n",
       "      <th>Children</th>\n",
       "      <th>Education</th>\n",
       "      <th>Occupation</th>\n",
       "      <th>Home Owner</th>\n",
       "      <th>Cars</th>\n",
       "      <th>Commute Distance</th>\n",
       "      <th>Region</th>\n",
       "      <th>Age</th>\n",
       "      <th>Purchased Bike</th>\n",
       "    </tr>\n",
       "  </thead>\n",
       "  <tbody>\n",
       "    <tr>\n",
       "      <th>0</th>\n",
       "      <td>12496</td>\n",
       "      <td>Married</td>\n",
       "      <td>Female</td>\n",
       "      <td>40000.0</td>\n",
       "      <td>1.0</td>\n",
       "      <td>Bachelors</td>\n",
       "      <td>Skilled Manual</td>\n",
       "      <td>Yes</td>\n",
       "      <td>0.0</td>\n",
       "      <td>0-1 Miles</td>\n",
       "      <td>Europe</td>\n",
       "      <td>42.0</td>\n",
       "      <td>No</td>\n",
       "    </tr>\n",
       "    <tr>\n",
       "      <th>1</th>\n",
       "      <td>24107</td>\n",
       "      <td>Married</td>\n",
       "      <td>Male</td>\n",
       "      <td>30000.0</td>\n",
       "      <td>3.0</td>\n",
       "      <td>Partial College</td>\n",
       "      <td>Clerical</td>\n",
       "      <td>Yes</td>\n",
       "      <td>1.0</td>\n",
       "      <td>0-1 Miles</td>\n",
       "      <td>Europe</td>\n",
       "      <td>43.0</td>\n",
       "      <td>No</td>\n",
       "    </tr>\n",
       "    <tr>\n",
       "      <th>2</th>\n",
       "      <td>14177</td>\n",
       "      <td>Married</td>\n",
       "      <td>Male</td>\n",
       "      <td>80000.0</td>\n",
       "      <td>5.0</td>\n",
       "      <td>Partial College</td>\n",
       "      <td>Professional</td>\n",
       "      <td>No</td>\n",
       "      <td>2.0</td>\n",
       "      <td>2-5 Miles</td>\n",
       "      <td>Europe</td>\n",
       "      <td>60.0</td>\n",
       "      <td>No</td>\n",
       "    </tr>\n",
       "    <tr>\n",
       "      <th>3</th>\n",
       "      <td>24381</td>\n",
       "      <td>Single</td>\n",
       "      <td>NaN</td>\n",
       "      <td>70000.0</td>\n",
       "      <td>0.0</td>\n",
       "      <td>Bachelors</td>\n",
       "      <td>Professional</td>\n",
       "      <td>Yes</td>\n",
       "      <td>1.0</td>\n",
       "      <td>5-10 Miles</td>\n",
       "      <td>Pacific</td>\n",
       "      <td>41.0</td>\n",
       "      <td>Yes</td>\n",
       "    </tr>\n",
       "    <tr>\n",
       "      <th>4</th>\n",
       "      <td>25597</td>\n",
       "      <td>Single</td>\n",
       "      <td>Male</td>\n",
       "      <td>30000.0</td>\n",
       "      <td>0.0</td>\n",
       "      <td>Bachelors</td>\n",
       "      <td>Clerical</td>\n",
       "      <td>No</td>\n",
       "      <td>0.0</td>\n",
       "      <td>0-1 Miles</td>\n",
       "      <td>Europe</td>\n",
       "      <td>36.0</td>\n",
       "      <td>Yes</td>\n",
       "    </tr>\n",
       "  </tbody>\n",
       "</table>\n",
       "</div>"
      ],
      "text/plain": [
       "      ID Marital Status  Gender   Income  Children        Education  \\\n",
       "0  12496        Married  Female  40000.0       1.0        Bachelors   \n",
       "1  24107        Married    Male  30000.0       3.0  Partial College   \n",
       "2  14177        Married    Male  80000.0       5.0  Partial College   \n",
       "3  24381         Single     NaN  70000.0       0.0        Bachelors   \n",
       "4  25597         Single    Male  30000.0       0.0        Bachelors   \n",
       "\n",
       "       Occupation Home Owner  Cars Commute Distance   Region   Age  \\\n",
       "0  Skilled Manual        Yes   0.0        0-1 Miles   Europe  42.0   \n",
       "1        Clerical        Yes   1.0        0-1 Miles   Europe  43.0   \n",
       "2    Professional         No   2.0        2-5 Miles   Europe  60.0   \n",
       "3    Professional        Yes   1.0       5-10 Miles  Pacific  41.0   \n",
       "4        Clerical         No   0.0        0-1 Miles   Europe  36.0   \n",
       "\n",
       "  Purchased Bike  \n",
       "0             No  \n",
       "1             No  \n",
       "2             No  \n",
       "3            Yes  \n",
       "4            Yes  "
      ]
     },
     "execution_count": 6,
     "metadata": {},
     "output_type": "execute_result"
    }
   ],
   "source": [
    "# To Visualize Dataset (2nd solution)\n",
    "df = pd.read_csv('bike_buyers.csv').iloc [:,:]\n",
    "df.head()"
   ]
  },
  {
   "cell_type": "code",
   "execution_count": 7,
   "metadata": {},
   "outputs": [
    {
     "name": "stdout",
     "output_type": "stream",
     "text": [
      "(1000, 13)\n"
     ]
    }
   ],
   "source": [
    "# Print the shape of dataset in the form of (#rows, #columns)\n",
    "print(df.shape)"
   ]
  },
  {
   "cell_type": "code",
   "execution_count": 8,
   "metadata": {},
   "outputs": [
    {
     "name": "stdout",
     "output_type": "stream",
     "text": [
      "...Purchased bike processing...\n",
      "...Step 1...\n",
      "...Step 1: DONE!\n"
     ]
    },
    {
     "name": "stderr",
     "output_type": "stream",
     "text": [
      "<ipython-input-8-0874f0bd219f>:6: SettingWithCopyWarning: \n",
      "A value is trying to be set on a copy of a slice from a DataFrame\n",
      "\n",
      "See the caveats in the documentation: https://pandas.pydata.org/pandas-docs/stable/user_guide/indexing.html#returning-a-view-versus-a-copy\n",
      "  df[\"Purchased Bike\"][i] = 0\n",
      "<ipython-input-8-0874f0bd219f>:8: SettingWithCopyWarning: \n",
      "A value is trying to be set on a copy of a slice from a DataFrame\n",
      "\n",
      "See the caveats in the documentation: https://pandas.pydata.org/pandas-docs/stable/user_guide/indexing.html#returning-a-view-versus-a-copy\n",
      "  df[\"Purchased Bike\"][i] = 1\n"
     ]
    }
   ],
   "source": [
    "# To enable logistic regression, to update purchase bike value to 0 and 1\n",
    "print(\"...Purchased bike processing...\")\n",
    "print(\"...Step 1...\")\n",
    "for i in range (len(df)):\n",
    "    if df[\"Purchased Bike\"][i] == \"No\":\n",
    "        df[\"Purchased Bike\"][i] = 0\n",
    "    else:\n",
    "        df[\"Purchased Bike\"][i] = 1\n",
    "print(\"...Step 1: DONE!\")"
   ]
  },
  {
   "cell_type": "code",
   "execution_count": 9,
   "metadata": {},
   "outputs": [
    {
     "data": {
      "text/html": [
       "<div>\n",
       "<style scoped>\n",
       "    .dataframe tbody tr th:only-of-type {\n",
       "        vertical-align: middle;\n",
       "    }\n",
       "\n",
       "    .dataframe tbody tr th {\n",
       "        vertical-align: top;\n",
       "    }\n",
       "\n",
       "    .dataframe thead th {\n",
       "        text-align: right;\n",
       "    }\n",
       "</style>\n",
       "<table border=\"1\" class=\"dataframe\">\n",
       "  <thead>\n",
       "    <tr style=\"text-align: right;\">\n",
       "      <th></th>\n",
       "      <th>ID</th>\n",
       "      <th>Marital Status</th>\n",
       "      <th>Gender</th>\n",
       "      <th>Income</th>\n",
       "      <th>Children</th>\n",
       "      <th>Education</th>\n",
       "      <th>Occupation</th>\n",
       "      <th>Home Owner</th>\n",
       "      <th>Cars</th>\n",
       "      <th>Commute Distance</th>\n",
       "      <th>Region</th>\n",
       "      <th>Age</th>\n",
       "      <th>Purchased Bike</th>\n",
       "    </tr>\n",
       "  </thead>\n",
       "  <tbody>\n",
       "    <tr>\n",
       "      <th>0</th>\n",
       "      <td>12496</td>\n",
       "      <td>Married</td>\n",
       "      <td>Female</td>\n",
       "      <td>40000.0</td>\n",
       "      <td>1.0</td>\n",
       "      <td>Bachelors</td>\n",
       "      <td>Skilled Manual</td>\n",
       "      <td>Yes</td>\n",
       "      <td>0.0</td>\n",
       "      <td>0-1 Miles</td>\n",
       "      <td>Europe</td>\n",
       "      <td>42.0</td>\n",
       "      <td>0</td>\n",
       "    </tr>\n",
       "    <tr>\n",
       "      <th>1</th>\n",
       "      <td>24107</td>\n",
       "      <td>Married</td>\n",
       "      <td>Male</td>\n",
       "      <td>30000.0</td>\n",
       "      <td>3.0</td>\n",
       "      <td>Partial College</td>\n",
       "      <td>Clerical</td>\n",
       "      <td>Yes</td>\n",
       "      <td>1.0</td>\n",
       "      <td>0-1 Miles</td>\n",
       "      <td>Europe</td>\n",
       "      <td>43.0</td>\n",
       "      <td>0</td>\n",
       "    </tr>\n",
       "    <tr>\n",
       "      <th>2</th>\n",
       "      <td>14177</td>\n",
       "      <td>Married</td>\n",
       "      <td>Male</td>\n",
       "      <td>80000.0</td>\n",
       "      <td>5.0</td>\n",
       "      <td>Partial College</td>\n",
       "      <td>Professional</td>\n",
       "      <td>No</td>\n",
       "      <td>2.0</td>\n",
       "      <td>2-5 Miles</td>\n",
       "      <td>Europe</td>\n",
       "      <td>60.0</td>\n",
       "      <td>0</td>\n",
       "    </tr>\n",
       "    <tr>\n",
       "      <th>3</th>\n",
       "      <td>24381</td>\n",
       "      <td>Single</td>\n",
       "      <td>NaN</td>\n",
       "      <td>70000.0</td>\n",
       "      <td>0.0</td>\n",
       "      <td>Bachelors</td>\n",
       "      <td>Professional</td>\n",
       "      <td>Yes</td>\n",
       "      <td>1.0</td>\n",
       "      <td>5-10 Miles</td>\n",
       "      <td>Pacific</td>\n",
       "      <td>41.0</td>\n",
       "      <td>1</td>\n",
       "    </tr>\n",
       "    <tr>\n",
       "      <th>4</th>\n",
       "      <td>25597</td>\n",
       "      <td>Single</td>\n",
       "      <td>Male</td>\n",
       "      <td>30000.0</td>\n",
       "      <td>0.0</td>\n",
       "      <td>Bachelors</td>\n",
       "      <td>Clerical</td>\n",
       "      <td>No</td>\n",
       "      <td>0.0</td>\n",
       "      <td>0-1 Miles</td>\n",
       "      <td>Europe</td>\n",
       "      <td>36.0</td>\n",
       "      <td>1</td>\n",
       "    </tr>\n",
       "  </tbody>\n",
       "</table>\n",
       "</div>"
      ],
      "text/plain": [
       "      ID Marital Status  Gender   Income  Children        Education  \\\n",
       "0  12496        Married  Female  40000.0       1.0        Bachelors   \n",
       "1  24107        Married    Male  30000.0       3.0  Partial College   \n",
       "2  14177        Married    Male  80000.0       5.0  Partial College   \n",
       "3  24381         Single     NaN  70000.0       0.0        Bachelors   \n",
       "4  25597         Single    Male  30000.0       0.0        Bachelors   \n",
       "\n",
       "       Occupation Home Owner  Cars Commute Distance   Region   Age  \\\n",
       "0  Skilled Manual        Yes   0.0        0-1 Miles   Europe  42.0   \n",
       "1        Clerical        Yes   1.0        0-1 Miles   Europe  43.0   \n",
       "2    Professional         No   2.0        2-5 Miles   Europe  60.0   \n",
       "3    Professional        Yes   1.0       5-10 Miles  Pacific  41.0   \n",
       "4        Clerical         No   0.0        0-1 Miles   Europe  36.0   \n",
       "\n",
       "  Purchased Bike  \n",
       "0              0  \n",
       "1              0  \n",
       "2              0  \n",
       "3              1  \n",
       "4              1  "
      ]
     },
     "execution_count": 9,
     "metadata": {},
     "output_type": "execute_result"
    }
   ],
   "source": [
    "# Check replacement is indeed done\n",
    "df.head()"
   ]
  },
  {
   "cell_type": "markdown",
   "metadata": {},
   "source": [
    "# Exploratory Data Analysis (EDA)"
   ]
  },
  {
   "cell_type": "code",
   "execution_count": 10,
   "metadata": {},
   "outputs": [
    {
     "data": {
      "text/plain": [
       "<seaborn.axisgrid.FacetGrid at 0x7fb8cd5c4f70>"
      ]
     },
     "execution_count": 10,
     "metadata": {},
     "output_type": "execute_result"
    },
    {
     "data": {
      "image/png": "[encoded data removed]",
      "text/plain": [
       "<Figure size 180x360 with 1 Axes>"
      ]
     },
     "metadata": {
      "needs_background": "light"
     },
     "output_type": "display_data"
    }
   ],
   "source": [
    "# EDA\n",
    "# Visualize Marital Status and Purchased Bike\n",
    "sns.catplot(x=\"Marital Status\", y=\"Purchased Bike\", data = df, kind=\"bar\",aspect = 0.5, palette = \"GnBu\")"
   ]
  },
  {
   "cell_type": "code",
   "execution_count": 11,
   "metadata": {},
   "outputs": [
    {
     "data": {
      "text/plain": [
       "<seaborn.axisgrid.FacetGrid at 0x7fb8a2b8b790>"
      ]
     },
     "execution_count": 11,
     "metadata": {},
     "output_type": "execute_result"
    },
    {
     "data": {
      "image/png": "[encoded data removed]",
      "text/plain": [
       "<Figure size 180x360 with 1 Axes>"
      ]
     },
     "metadata": {
      "needs_background": "light"
     },
     "output_type": "display_data"
    }
   ],
   "source": [
    "# Visualize Gender and Purchased Bike\n",
    "sns.catplot(x=\"Gender\", y=\"Purchased Bike\", data = df, kind=\"bar\", aspect = 0.5, palette = \"GnBu_r\")"
   ]
  },
  {
   "cell_type": "code",
   "execution_count": 12,
   "metadata": {},
   "outputs": [
    {
     "data": {
      "text/plain": [
       "<seaborn.axisgrid.FacetGrid at 0x7fb8a2b9d370>"
      ]
     },
     "execution_count": 12,
     "metadata": {},
     "output_type": "execute_result"
    },
    {
     "data": {
      "image/png": "[encoded data removed]",
      "text/plain": [
       "<Figure size 900x360 with 1 Axes>"
      ]
     },
     "metadata": {
      "needs_background": "light"
     },
     "output_type": "display_data"
    }
   ],
   "source": [
    "# Visualize Income and Purchased Bike\n",
    "sns.catplot(x=\"Income\", y=\"Purchased Bike\", data = df, kind=\"bar\", aspect = 2.5)"
   ]
  },
  {
   "cell_type": "code",
   "execution_count": 13,
   "metadata": {},
   "outputs": [
    {
     "data": {
      "text/plain": [
       "<seaborn.axisgrid.FacetGrid at 0x7fb8a2ad1160>"
      ]
     },
     "execution_count": 13,
     "metadata": {},
     "output_type": "execute_result"
    },
    {
     "data": {
      "image/png": "[encoded data removed]",
      "text/plain": [
       "<Figure size 360x360 with 1 Axes>"
      ]
     },
     "metadata": {
      "needs_background": "light"
     },
     "output_type": "display_data"
    }
   ],
   "source": [
    "# Visualize Children and Purchased Bike\n",
    "sns.catplot(x=\"Children\", y=\"Purchased Bike\", data = df, kind=\"bar\", aspect = 1,palette = \"GnBu_r\")"
   ]
  },
  {
   "cell_type": "code",
   "execution_count": 14,
   "metadata": {},
   "outputs": [
    {
     "data": {
      "text/plain": [
       "<seaborn.axisgrid.FacetGrid at 0x7fb8a4c62af0>"
      ]
     },
     "execution_count": 14,
     "metadata": {},
     "output_type": "execute_result"
    },
    {
     "data": {
      "image/png": "[encoded data removed]",
      "text/plain": [
       "<Figure size 540x360 with 1 Axes>"
      ]
     },
     "metadata": {
      "needs_background": "light"
     },
     "output_type": "display_data"
    }
   ],
   "source": [
    "# Visualize Education and Purchased Bike\n",
    "sns.catplot(x=\"Education\", y=\"Purchased Bike\", data = df, kind=\"bar\", aspect = 1.5)"
   ]
  },
  {
   "cell_type": "code",
   "execution_count": 15,
   "metadata": {},
   "outputs": [
    {
     "data": {
      "text/plain": [
       "<seaborn.axisgrid.FacetGrid at 0x7fb8a2859dc0>"
      ]
     },
     "execution_count": 15,
     "metadata": {},
     "output_type": "execute_result"
    },
    {
     "data": {
      "image/png": "[encoded data removed]",
      "text/plain": [
       "<Figure size 540x360 with 1 Axes>"
      ]
     },
     "metadata": {
      "needs_background": "light"
     },
     "output_type": "display_data"
    }
   ],
   "source": [
    "# Visualize Occupation and Purchased Bike\n",
    "sns.catplot(x=\"Occupation\", y=\"Purchased Bike\", data = df, kind=\"bar\", aspect = 1.5)"
   ]
  },
  {
   "cell_type": "code",
   "execution_count": 16,
   "metadata": {},
   "outputs": [
    {
     "data": {
      "text/plain": [
       "<seaborn.axisgrid.FacetGrid at 0x7fb8a2859e50>"
      ]
     },
     "execution_count": 16,
     "metadata": {},
     "output_type": "execute_result"
    },
    {
     "data": {
      "image/png": "[encoded data removed]",
      "text/plain": [
       "<Figure size 180x360 with 1 Axes>"
      ]
     },
     "metadata": {
      "needs_background": "light"
     },
     "output_type": "display_data"
    }
   ],
   "source": [
    "# Visualize Home Owner and Purchased Bike\n",
    "sns.catplot(x=\"Home Owner\", y=\"Purchased Bike\", data = df, kind=\"bar\", aspect = 0.5)"
   ]
  },
  {
   "cell_type": "code",
   "execution_count": 17,
   "metadata": {},
   "outputs": [
    {
     "data": {
      "text/plain": [
       "<seaborn.axisgrid.FacetGrid at 0x7fb8a27e5a90>"
      ]
     },
     "execution_count": 17,
     "metadata": {},
     "output_type": "execute_result"
    },
    {
     "data": {
      "image/png": "[encoded data removed]",
      "text/plain": [
       "<Figure size 360x360 with 1 Axes>"
      ]
     },
     "metadata": {
      "needs_background": "light"
     },
     "output_type": "display_data"
    }
   ],
   "source": [
    "# Visualize Cars and Purchased Bike\n",
    "sns.catplot(x=\"Cars\", y=\"Purchased Bike\", data = df, kind=\"bar\", aspect = 1, palette = \"GnBu_r\")"
   ]
  },
  {
   "cell_type": "code",
   "execution_count": 18,
   "metadata": {},
   "outputs": [
    {
     "data": {
      "text/plain": [
       "<seaborn.axisgrid.FacetGrid at 0x7fb8a26fde20>"
      ]
     },
     "execution_count": 18,
     "metadata": {},
     "output_type": "execute_result"
    },
    {
     "data": {
      "image/png": "[encoded data removed]",
      "text/plain": [
       "<Figure size 540x360 with 1 Axes>"
      ]
     },
     "metadata": {
      "needs_background": "light"
     },
     "output_type": "display_data"
    }
   ],
   "source": [
    "# Visualize Commute Distance and Purchased Bike\n",
    "sns.catplot(x=\"Commute Distance\", \n",
    "            y=\"Purchased Bike\", \n",
    "            data = df,\n",
    "            kind=\"bar\", \n",
    "            aspect = 1.5)"
   ]
  },
  {
   "cell_type": "code",
   "execution_count": 19,
   "metadata": {},
   "outputs": [
    {
     "data": {
      "text/plain": [
       "<seaborn.axisgrid.FacetGrid at 0x7fb8a2671580>"
      ]
     },
     "execution_count": 19,
     "metadata": {},
     "output_type": "execute_result"
    },
    {
     "data": {
      "image/png": "[encoded data removed]",
      "text/plain": [
       "<Figure size 288x360 with 1 Axes>"
      ]
     },
     "metadata": {
      "needs_background": "light"
     },
     "output_type": "display_data"
    }
   ],
   "source": [
    "# Visualize Region and Purchased Bike\n",
    "sns.catplot(x=\"Region\", y=\"Purchased Bike\", data = df, kind=\"bar\", aspect = 0.8, palette = \"GnBu_r\")"
   ]
  },
  {
   "cell_type": "code",
   "execution_count": 20,
   "metadata": {},
   "outputs": [
    {
     "data": {
      "text/plain": [
       "<seaborn.axisgrid.FacetGrid at 0x7fb8a2686250>"
      ]
     },
     "execution_count": 20,
     "metadata": {},
     "output_type": "execute_result"
    },
    {
     "data": {
      "image/png": "[encoded data removed]",
      "text/plain": [
       "<Figure size 1440x360 with 1 Axes>"
      ]
     },
     "metadata": {
      "needs_background": "light"
     },
     "output_type": "display_data"
    }
   ],
   "source": [
    "# Visualize Age and Purchased Bike\n",
    "sns.catplot(x=\"Age\", y=\"Purchased Bike\", data = df, kind=\"bar\", aspect = 4, palette = \"GnBu_r\")"
   ]
  },
  {
   "cell_type": "code",
   "execution_count": 21,
   "metadata": {},
   "outputs": [
    {
     "data": {
      "text/plain": [
       "<matplotlib.collections.PathCollection at 0x7fb8a2222130>"
      ]
     },
     "execution_count": 21,
     "metadata": {},
     "output_type": "execute_result"
    },
    {
     "data": {
      "image/png": "[encoded data removed]",
      "text/plain": [
       "<Figure size 432x288 with 1 Axes>"
      ]
     },
     "metadata": {
      "needs_background": "light"
     },
     "output_type": "display_data"
    }
   ],
   "source": [
    "# Visualize Age and Purchased Bike v2\n",
    "plt.scatter(df['Age'],df['Purchased Bike'])"
   ]
  },
  {
   "cell_type": "code",
   "execution_count": 22,
   "metadata": {},
   "outputs": [
    {
     "name": "stdout",
     "output_type": "stream",
     "text": [
      "                  ID Marital Status Gender         Income    Children  \\\n",
      "count    1000.000000            993    989     994.000000  992.000000   \n",
      "unique           NaN              2      2            NaN         NaN   \n",
      "top              NaN        Married   Male            NaN         NaN   \n",
      "freq             NaN            535    500            NaN         NaN   \n",
      "mean    19965.992000            NaN    NaN   56267.605634    1.910282   \n",
      "std      5347.333948            NaN    NaN   31067.817462    1.626910   \n",
      "min     11000.000000            NaN    NaN   10000.000000    0.000000   \n",
      "25%     15290.750000            NaN    NaN   30000.000000    0.000000   \n",
      "50%     19744.000000            NaN    NaN   60000.000000    2.000000   \n",
      "75%     24470.750000            NaN    NaN   70000.000000    3.000000   \n",
      "max     29447.000000            NaN    NaN  170000.000000    5.000000   \n",
      "\n",
      "        Education    Occupation Home Owner        Cars Commute Distance  \\\n",
      "count        1000          1000        996  991.000000             1000   \n",
      "unique          5             5          2         NaN                5   \n",
      "top     Bachelors  Professional        Yes         NaN        0-1 Miles   \n",
      "freq          306           276        682         NaN              366   \n",
      "mean          NaN           NaN        NaN    1.455096              NaN   \n",
      "std           NaN           NaN        NaN    1.121755              NaN   \n",
      "min           NaN           NaN        NaN    0.000000              NaN   \n",
      "25%           NaN           NaN        NaN    1.000000              NaN   \n",
      "50%           NaN           NaN        NaN    1.000000              NaN   \n",
      "75%           NaN           NaN        NaN    2.000000              NaN   \n",
      "max           NaN           NaN        NaN    4.000000              NaN   \n",
      "\n",
      "               Region         Age  Purchased Bike  \n",
      "count            1000  992.000000          1000.0  \n",
      "unique              3         NaN             2.0  \n",
      "top     North America         NaN             0.0  \n",
      "freq              508         NaN           519.0  \n",
      "mean              NaN   44.181452             NaN  \n",
      "std               NaN   11.362007             NaN  \n",
      "min               NaN   25.000000             NaN  \n",
      "25%               NaN   35.000000             NaN  \n",
      "50%               NaN   43.000000             NaN  \n",
      "75%               NaN   52.000000             NaN  \n",
      "max               NaN   89.000000             NaN  \n"
     ]
    }
   ],
   "source": [
    "# Describe dataset's main statistics\n",
    "print(df.describe(include=\"all\")) # all pour tout faire afficher"
   ]
  },
  {
   "cell_type": "code",
   "execution_count": 23,
   "metadata": {},
   "outputs": [
    {
     "name": "stdout",
     "output_type": "stream",
     "text": [
      "                 ID         Income    Children        Cars         Age\n",
      "count   1000.000000     994.000000  992.000000  991.000000  992.000000\n",
      "mean   19965.992000   56267.605634    1.910282    1.455096   44.181452\n",
      "std     5347.333948   31067.817462    1.626910    1.121755   11.362007\n",
      "min    11000.000000   10000.000000    0.000000    0.000000   25.000000\n",
      "25%    15290.750000   30000.000000    0.000000    1.000000   35.000000\n",
      "50%    19744.000000   60000.000000    2.000000    1.000000   43.000000\n",
      "75%    24470.750000   70000.000000    3.000000    2.000000   52.000000\n",
      "max    29447.000000  170000.000000    5.000000    4.000000   89.000000\n"
     ]
    }
   ],
   "source": [
    "print(df.describe())"
   ]
  },
  {
   "cell_type": "code",
   "execution_count": 24,
   "metadata": {},
   "outputs": [
    {
     "data": {
      "text/plain": [
       "ID                  False\n",
       "Marital Status       True\n",
       "Gender               True\n",
       "Income               True\n",
       "Children             True\n",
       "Education           False\n",
       "Occupation          False\n",
       "Home Owner           True\n",
       "Cars                 True\n",
       "Commute Distance    False\n",
       "Region              False\n",
       "Age                  True\n",
       "Purchased Bike      False\n",
       "dtype: bool"
      ]
     },
     "execution_count": 24,
     "metadata": {},
     "output_type": "execute_result"
    }
   ],
   "source": [
    "# Check if there any null value in the data\n",
    "df.isnull().any()"
   ]
  },
  {
   "cell_type": "code",
   "execution_count": 25,
   "metadata": {},
   "outputs": [
    {
     "data": {
      "text/html": [
       "<div>\n",
       "<style scoped>\n",
       "    .dataframe tbody tr th:only-of-type {\n",
       "        vertical-align: middle;\n",
       "    }\n",
       "\n",
       "    .dataframe tbody tr th {\n",
       "        vertical-align: top;\n",
       "    }\n",
       "\n",
       "    .dataframe thead th {\n",
       "        text-align: right;\n",
       "    }\n",
       "</style>\n",
       "<table border=\"1\" class=\"dataframe\">\n",
       "  <thead>\n",
       "    <tr style=\"text-align: right;\">\n",
       "      <th></th>\n",
       "      <th>ID</th>\n",
       "      <th>Marital Status</th>\n",
       "      <th>Gender</th>\n",
       "      <th>Income</th>\n",
       "      <th>Children</th>\n",
       "      <th>Education</th>\n",
       "      <th>Occupation</th>\n",
       "      <th>Home Owner</th>\n",
       "      <th>Cars</th>\n",
       "      <th>Commute Distance</th>\n",
       "      <th>Region</th>\n",
       "      <th>Age</th>\n",
       "      <th>Purchased Bike</th>\n",
       "    </tr>\n",
       "  </thead>\n",
       "  <tbody>\n",
       "    <tr>\n",
       "      <th>0</th>\n",
       "      <td>False</td>\n",
       "      <td>False</td>\n",
       "      <td>False</td>\n",
       "      <td>False</td>\n",
       "      <td>False</td>\n",
       "      <td>False</td>\n",
       "      <td>False</td>\n",
       "      <td>False</td>\n",
       "      <td>False</td>\n",
       "      <td>False</td>\n",
       "      <td>False</td>\n",
       "      <td>False</td>\n",
       "      <td>False</td>\n",
       "    </tr>\n",
       "    <tr>\n",
       "      <th>1</th>\n",
       "      <td>False</td>\n",
       "      <td>False</td>\n",
       "      <td>False</td>\n",
       "      <td>False</td>\n",
       "      <td>False</td>\n",
       "      <td>False</td>\n",
       "      <td>False</td>\n",
       "      <td>False</td>\n",
       "      <td>False</td>\n",
       "      <td>False</td>\n",
       "      <td>False</td>\n",
       "      <td>False</td>\n",
       "      <td>False</td>\n",
       "    </tr>\n",
       "    <tr>\n",
       "      <th>2</th>\n",
       "      <td>False</td>\n",
       "      <td>False</td>\n",
       "      <td>False</td>\n",
       "      <td>False</td>\n",
       "      <td>False</td>\n",
       "      <td>False</td>\n",
       "      <td>False</td>\n",
       "      <td>False</td>\n",
       "      <td>False</td>\n",
       "      <td>False</td>\n",
       "      <td>False</td>\n",
       "      <td>False</td>\n",
       "      <td>False</td>\n",
       "    </tr>\n",
       "    <tr>\n",
       "      <th>3</th>\n",
       "      <td>False</td>\n",
       "      <td>False</td>\n",
       "      <td>True</td>\n",
       "      <td>False</td>\n",
       "      <td>False</td>\n",
       "      <td>False</td>\n",
       "      <td>False</td>\n",
       "      <td>False</td>\n",
       "      <td>False</td>\n",
       "      <td>False</td>\n",
       "      <td>False</td>\n",
       "      <td>False</td>\n",
       "      <td>False</td>\n",
       "    </tr>\n",
       "    <tr>\n",
       "      <th>4</th>\n",
       "      <td>False</td>\n",
       "      <td>False</td>\n",
       "      <td>False</td>\n",
       "      <td>False</td>\n",
       "      <td>False</td>\n",
       "      <td>False</td>\n",
       "      <td>False</td>\n",
       "      <td>False</td>\n",
       "      <td>False</td>\n",
       "      <td>False</td>\n",
       "      <td>False</td>\n",
       "      <td>False</td>\n",
       "      <td>False</td>\n",
       "    </tr>\n",
       "    <tr>\n",
       "      <th>...</th>\n",
       "      <td>...</td>\n",
       "      <td>...</td>\n",
       "      <td>...</td>\n",
       "      <td>...</td>\n",
       "      <td>...</td>\n",
       "      <td>...</td>\n",
       "      <td>...</td>\n",
       "      <td>...</td>\n",
       "      <td>...</td>\n",
       "      <td>...</td>\n",
       "      <td>...</td>\n",
       "      <td>...</td>\n",
       "      <td>...</td>\n",
       "    </tr>\n",
       "    <tr>\n",
       "      <th>995</th>\n",
       "      <td>False</td>\n",
       "      <td>False</td>\n",
       "      <td>False</td>\n",
       "      <td>False</td>\n",
       "      <td>False</td>\n",
       "      <td>False</td>\n",
       "      <td>False</td>\n",
       "      <td>False</td>\n",
       "      <td>False</td>\n",
       "      <td>False</td>\n",
       "      <td>False</td>\n",
       "      <td>False</td>\n",
       "      <td>False</td>\n",
       "    </tr>\n",
       "    <tr>\n",
       "      <th>996</th>\n",
       "      <td>False</td>\n",
       "      <td>False</td>\n",
       "      <td>False</td>\n",
       "      <td>False</td>\n",
       "      <td>False</td>\n",
       "      <td>False</td>\n",
       "      <td>False</td>\n",
       "      <td>False</td>\n",
       "      <td>False</td>\n",
       "      <td>False</td>\n",
       "      <td>False</td>\n",
       "      <td>False</td>\n",
       "      <td>False</td>\n",
       "    </tr>\n",
       "    <tr>\n",
       "      <th>997</th>\n",
       "      <td>False</td>\n",
       "      <td>False</td>\n",
       "      <td>True</td>\n",
       "      <td>False</td>\n",
       "      <td>False</td>\n",
       "      <td>False</td>\n",
       "      <td>False</td>\n",
       "      <td>False</td>\n",
       "      <td>False</td>\n",
       "      <td>False</td>\n",
       "      <td>False</td>\n",
       "      <td>False</td>\n",
       "      <td>False</td>\n",
       "    </tr>\n",
       "    <tr>\n",
       "      <th>998</th>\n",
       "      <td>False</td>\n",
       "      <td>False</td>\n",
       "      <td>False</td>\n",
       "      <td>False</td>\n",
       "      <td>False</td>\n",
       "      <td>False</td>\n",
       "      <td>False</td>\n",
       "      <td>False</td>\n",
       "      <td>False</td>\n",
       "      <td>False</td>\n",
       "      <td>False</td>\n",
       "      <td>False</td>\n",
       "      <td>False</td>\n",
       "    </tr>\n",
       "    <tr>\n",
       "      <th>999</th>\n",
       "      <td>False</td>\n",
       "      <td>False</td>\n",
       "      <td>False</td>\n",
       "      <td>False</td>\n",
       "      <td>False</td>\n",
       "      <td>False</td>\n",
       "      <td>False</td>\n",
       "      <td>False</td>\n",
       "      <td>False</td>\n",
       "      <td>False</td>\n",
       "      <td>False</td>\n",
       "      <td>False</td>\n",
       "      <td>False</td>\n",
       "    </tr>\n",
       "  </tbody>\n",
       "</table>\n",
       "<p>1000 rows × 13 columns</p>\n",
       "</div>"
      ],
      "text/plain": [
       "        ID  Marital Status  Gender  Income  Children  Education  Occupation  \\\n",
       "0    False           False   False   False     False      False       False   \n",
       "1    False           False   False   False     False      False       False   \n",
       "2    False           False   False   False     False      False       False   \n",
       "3    False           False    True   False     False      False       False   \n",
       "4    False           False   False   False     False      False       False   \n",
       "..     ...             ...     ...     ...       ...        ...         ...   \n",
       "995  False           False   False   False     False      False       False   \n",
       "996  False           False   False   False     False      False       False   \n",
       "997  False           False    True   False     False      False       False   \n",
       "998  False           False   False   False     False      False       False   \n",
       "999  False           False   False   False     False      False       False   \n",
       "\n",
       "     Home Owner   Cars  Commute Distance  Region    Age  Purchased Bike  \n",
       "0         False  False             False   False  False           False  \n",
       "1         False  False             False   False  False           False  \n",
       "2         False  False             False   False  False           False  \n",
       "3         False  False             False   False  False           False  \n",
       "4         False  False             False   False  False           False  \n",
       "..          ...    ...               ...     ...    ...             ...  \n",
       "995       False  False             False   False  False           False  \n",
       "996       False  False             False   False  False           False  \n",
       "997       False  False             False   False  False           False  \n",
       "998       False  False             False   False  False           False  \n",
       "999       False  False             False   False  False           False  \n",
       "\n",
       "[1000 rows x 13 columns]"
      ]
     },
     "execution_count": 25,
     "metadata": {},
     "output_type": "execute_result"
    }
   ],
   "source": [
    "df.isnull()"
   ]
  },
  {
   "cell_type": "markdown",
   "metadata": {},
   "source": [
    "# Preprocessing"
   ]
  },
  {
   "cell_type": "code",
   "execution_count": 26,
   "metadata": {},
   "outputs": [
    {
     "name": "stdout",
     "output_type": "stream",
     "text": [
      "Separating target variable from features...\n",
      "...Done...\n",
      "\n"
     ]
    }
   ],
   "source": [
    "# Preprocessing\n",
    "\n",
    "# Separate target variable Y from features X\n",
    "print(\"Separating target variable from features...\")\n",
    "\n",
    "# Choose the columns you want to have as your features\n",
    "features_list = ['Marital Status', 'Gender', 'Income', 'Children', 'Education', 'Occupation', 'Home Owner', 'Cars', 'Commute Distance', 'Region', 'Age']\n",
    "\n",
    "X = df.loc[:,features_list] # We add feature_list into our loc \n",
    "y = df.loc[:,\"Purchased Bike\"] # We set \"Profit\" as the target variable\n",
    "\n",
    "print(\"...Done...\")\n",
    "print()"
   ]
  },
  {
   "cell_type": "code",
   "execution_count": 27,
   "metadata": {},
   "outputs": [
    {
     "data": {
      "text/plain": [
       "Index(['ID', 'Marital Status', 'Gender', 'Income', 'Children', 'Education',\n",
       "       'Occupation', 'Home Owner', 'Cars', 'Commute Distance', 'Region', 'Age',\n",
       "       'Purchased Bike'],\n",
       "      dtype='object')"
      ]
     },
     "execution_count": 27,
     "metadata": {},
     "output_type": "execute_result"
    }
   ],
   "source": [
    "# Preview columns names to facilitate step above\n",
    "df.columns"
   ]
  },
  {
   "cell_type": "code",
   "execution_count": 28,
   "metadata": {},
   "outputs": [
    {
     "name": "stdout",
     "output_type": "stream",
     "text": [
      "Splitting dataset into train set and test set...\n",
      "...Done.\n"
     ]
    }
   ],
   "source": [
    "# Divide dataset Train set & Test set \n",
    "# First we import train_test_split\n",
    "\n",
    "print(\"Splitting dataset into train set and test set...\")\n",
    "## Then we use train_test_split\n",
    "X_train, X_test, y_train, y_test = train_test_split(X, y, \n",
    "                                                    test_size=0.2, \n",
    "                                                    random_state=0,\n",
    "                                                    stratify=y) # Allows you to stratify your sample. \n",
    "                                                                # Meaning, you will have the same\n",
    "                                                                # proportion of categories in test \n",
    "                                                                # and train set\n",
    "\n",
    "print(\"...Done.\")"
   ]
  },
  {
   "cell_type": "code",
   "execution_count": 29,
   "metadata": {},
   "outputs": [
    {
     "data": {
      "text/html": [
       "<div>\n",
       "<style scoped>\n",
       "    .dataframe tbody tr th:only-of-type {\n",
       "        vertical-align: middle;\n",
       "    }\n",
       "\n",
       "    .dataframe tbody tr th {\n",
       "        vertical-align: top;\n",
       "    }\n",
       "\n",
       "    .dataframe thead th {\n",
       "        text-align: right;\n",
       "    }\n",
       "</style>\n",
       "<table border=\"1\" class=\"dataframe\">\n",
       "  <thead>\n",
       "    <tr style=\"text-align: right;\">\n",
       "      <th></th>\n",
       "      <th>ID</th>\n",
       "      <th>Income</th>\n",
       "      <th>Children</th>\n",
       "      <th>Cars</th>\n",
       "      <th>Age</th>\n",
       "    </tr>\n",
       "  </thead>\n",
       "  <tbody>\n",
       "    <tr>\n",
       "      <th>count</th>\n",
       "      <td>1000.000000</td>\n",
       "      <td>994.000000</td>\n",
       "      <td>992.000000</td>\n",
       "      <td>991.000000</td>\n",
       "      <td>992.000000</td>\n",
       "    </tr>\n",
       "    <tr>\n",
       "      <th>mean</th>\n",
       "      <td>19965.992000</td>\n",
       "      <td>56267.605634</td>\n",
       "      <td>1.910282</td>\n",
       "      <td>1.455096</td>\n",
       "      <td>44.181452</td>\n",
       "    </tr>\n",
       "    <tr>\n",
       "      <th>std</th>\n",
       "      <td>5347.333948</td>\n",
       "      <td>31067.817462</td>\n",
       "      <td>1.626910</td>\n",
       "      <td>1.121755</td>\n",
       "      <td>11.362007</td>\n",
       "    </tr>\n",
       "    <tr>\n",
       "      <th>min</th>\n",
       "      <td>11000.000000</td>\n",
       "      <td>10000.000000</td>\n",
       "      <td>0.000000</td>\n",
       "      <td>0.000000</td>\n",
       "      <td>25.000000</td>\n",
       "    </tr>\n",
       "    <tr>\n",
       "      <th>25%</th>\n",
       "      <td>15290.750000</td>\n",
       "      <td>30000.000000</td>\n",
       "      <td>0.000000</td>\n",
       "      <td>1.000000</td>\n",
       "      <td>35.000000</td>\n",
       "    </tr>\n",
       "    <tr>\n",
       "      <th>50%</th>\n",
       "      <td>19744.000000</td>\n",
       "      <td>60000.000000</td>\n",
       "      <td>2.000000</td>\n",
       "      <td>1.000000</td>\n",
       "      <td>43.000000</td>\n",
       "    </tr>\n",
       "    <tr>\n",
       "      <th>75%</th>\n",
       "      <td>24470.750000</td>\n",
       "      <td>70000.000000</td>\n",
       "      <td>3.000000</td>\n",
       "      <td>2.000000</td>\n",
       "      <td>52.000000</td>\n",
       "    </tr>\n",
       "    <tr>\n",
       "      <th>max</th>\n",
       "      <td>29447.000000</td>\n",
       "      <td>170000.000000</td>\n",
       "      <td>5.000000</td>\n",
       "      <td>4.000000</td>\n",
       "      <td>89.000000</td>\n",
       "    </tr>\n",
       "  </tbody>\n",
       "</table>\n",
       "</div>"
      ],
      "text/plain": [
       "                 ID         Income    Children        Cars         Age\n",
       "count   1000.000000     994.000000  992.000000  991.000000  992.000000\n",
       "mean   19965.992000   56267.605634    1.910282    1.455096   44.181452\n",
       "std     5347.333948   31067.817462    1.626910    1.121755   11.362007\n",
       "min    11000.000000   10000.000000    0.000000    0.000000   25.000000\n",
       "25%    15290.750000   30000.000000    0.000000    1.000000   35.000000\n",
       "50%    19744.000000   60000.000000    2.000000    1.000000   43.000000\n",
       "75%    24470.750000   70000.000000    3.000000    2.000000   52.000000\n",
       "max    29447.000000  170000.000000    5.000000    4.000000   89.000000"
      ]
     },
     "execution_count": 29,
     "metadata": {},
     "output_type": "execute_result"
    }
   ],
   "source": [
    "df.describe()"
   ]
  },
  {
   "cell_type": "code",
   "execution_count": 30,
   "metadata": {},
   "outputs": [
    {
     "name": "stderr",
     "output_type": "stream",
     "text": [
      "<ipython-input-30-af9335c1c2ee>:10: SettingWithCopyWarning: \n",
      "A value is trying to be set on a copy of a slice from a DataFrame.\n",
      "Try using .loc[row_indexer,col_indexer] = value instead\n",
      "\n",
      "See the caveats in the documentation: https://pandas.pydata.org/pandas-docs/stable/user_guide/indexing.html#returning-a-view-versus-a-copy\n",
      "  X_train[[\"Income\"]] = numerical_imputer.fit_transform(X_train[[\"Income\"]])\n",
      "/opt/conda/lib/python3.8/site-packages/pandas/core/indexing.py:1736: SettingWithCopyWarning: \n",
      "A value is trying to be set on a copy of a slice from a DataFrame.\n",
      "Try using .loc[row_indexer,col_indexer] = value instead\n",
      "\n",
      "See the caveats in the documentation: https://pandas.pydata.org/pandas-docs/stable/user_guide/indexing.html#returning-a-view-versus-a-copy\n",
      "  isetter(loc, value[:, i].tolist())\n",
      "<ipython-input-30-af9335c1c2ee>:11: SettingWithCopyWarning: \n",
      "A value is trying to be set on a copy of a slice from a DataFrame.\n",
      "Try using .loc[row_indexer,col_indexer] = value instead\n",
      "\n",
      "See the caveats in the documentation: https://pandas.pydata.org/pandas-docs/stable/user_guide/indexing.html#returning-a-view-versus-a-copy\n",
      "  X_train[[\"Children\"]] = numerical_imputer.fit_transform(X_train[[\"Children\"]])\n",
      "/opt/conda/lib/python3.8/site-packages/pandas/core/indexing.py:1736: SettingWithCopyWarning: \n",
      "A value is trying to be set on a copy of a slice from a DataFrame.\n",
      "Try using .loc[row_indexer,col_indexer] = value instead\n",
      "\n",
      "See the caveats in the documentation: https://pandas.pydata.org/pandas-docs/stable/user_guide/indexing.html#returning-a-view-versus-a-copy\n",
      "  isetter(loc, value[:, i].tolist())\n",
      "<ipython-input-30-af9335c1c2ee>:12: SettingWithCopyWarning: \n",
      "A value is trying to be set on a copy of a slice from a DataFrame.\n",
      "Try using .loc[row_indexer,col_indexer] = value instead\n",
      "\n",
      "See the caveats in the documentation: https://pandas.pydata.org/pandas-docs/stable/user_guide/indexing.html#returning-a-view-versus-a-copy\n",
      "  X_train[[\"Cars\"]] = numerical_imputer.fit_transform(X_train[[\"Cars\"]])\n",
      "/opt/conda/lib/python3.8/site-packages/pandas/core/indexing.py:1736: SettingWithCopyWarning: \n",
      "A value is trying to be set on a copy of a slice from a DataFrame.\n",
      "Try using .loc[row_indexer,col_indexer] = value instead\n",
      "\n",
      "See the caveats in the documentation: https://pandas.pydata.org/pandas-docs/stable/user_guide/indexing.html#returning-a-view-versus-a-copy\n",
      "  isetter(loc, value[:, i].tolist())\n",
      "<ipython-input-30-af9335c1c2ee>:13: SettingWithCopyWarning: \n",
      "A value is trying to be set on a copy of a slice from a DataFrame.\n",
      "Try using .loc[row_indexer,col_indexer] = value instead\n",
      "\n",
      "See the caveats in the documentation: https://pandas.pydata.org/pandas-docs/stable/user_guide/indexing.html#returning-a-view-versus-a-copy\n",
      "  X_train[[\"Age\"]] = numerical_imputer.fit_transform(X_train[[\"Age\"]])\n",
      "/opt/conda/lib/python3.8/site-packages/pandas/core/indexing.py:1736: SettingWithCopyWarning: \n",
      "A value is trying to be set on a copy of a slice from a DataFrame.\n",
      "Try using .loc[row_indexer,col_indexer] = value instead\n",
      "\n",
      "See the caveats in the documentation: https://pandas.pydata.org/pandas-docs/stable/user_guide/indexing.html#returning-a-view-versus-a-copy\n",
      "  isetter(loc, value[:, i].tolist())\n",
      "<ipython-input-30-af9335c1c2ee>:23: SettingWithCopyWarning: \n",
      "A value is trying to be set on a copy of a slice from a DataFrame.\n",
      "Try using .loc[row_indexer,col_indexer] = value instead\n",
      "\n",
      "See the caveats in the documentation: https://pandas.pydata.org/pandas-docs/stable/user_guide/indexing.html#returning-a-view-versus-a-copy\n",
      "  X_train[[\"Marital Status\"]] = categorical_imputer.fit_transform(X_train[[\"Marital Status\"]])\n",
      "/opt/conda/lib/python3.8/site-packages/pandas/core/indexing.py:1736: SettingWithCopyWarning: \n",
      "A value is trying to be set on a copy of a slice from a DataFrame.\n",
      "Try using .loc[row_indexer,col_indexer] = value instead\n",
      "\n",
      "See the caveats in the documentation: https://pandas.pydata.org/pandas-docs/stable/user_guide/indexing.html#returning-a-view-versus-a-copy\n",
      "  isetter(loc, value[:, i].tolist())\n",
      "<ipython-input-30-af9335c1c2ee>:24: SettingWithCopyWarning: \n",
      "A value is trying to be set on a copy of a slice from a DataFrame.\n",
      "Try using .loc[row_indexer,col_indexer] = value instead\n",
      "\n",
      "See the caveats in the documentation: https://pandas.pydata.org/pandas-docs/stable/user_guide/indexing.html#returning-a-view-versus-a-copy\n",
      "  X_train[[\"Gender\"]] = categorical_imputer.fit_transform(X_train[[\"Gender\"]])\n",
      "/opt/conda/lib/python3.8/site-packages/pandas/core/indexing.py:1736: SettingWithCopyWarning: \n",
      "A value is trying to be set on a copy of a slice from a DataFrame.\n",
      "Try using .loc[row_indexer,col_indexer] = value instead\n",
      "\n",
      "See the caveats in the documentation: https://pandas.pydata.org/pandas-docs/stable/user_guide/indexing.html#returning-a-view-versus-a-copy\n",
      "  isetter(loc, value[:, i].tolist())\n",
      "<ipython-input-30-af9335c1c2ee>:25: SettingWithCopyWarning: \n",
      "A value is trying to be set on a copy of a slice from a DataFrame.\n",
      "Try using .loc[row_indexer,col_indexer] = value instead\n",
      "\n",
      "See the caveats in the documentation: https://pandas.pydata.org/pandas-docs/stable/user_guide/indexing.html#returning-a-view-versus-a-copy\n",
      "  X_train[[\"Home Owner\"]] = categorical_imputer.fit_transform(X_train[[\"Home Owner\"]])\n",
      "/opt/conda/lib/python3.8/site-packages/pandas/core/indexing.py:1736: SettingWithCopyWarning: \n",
      "A value is trying to be set on a copy of a slice from a DataFrame.\n",
      "Try using .loc[row_indexer,col_indexer] = value instead\n",
      "\n",
      "See the caveats in the documentation: https://pandas.pydata.org/pandas-docs/stable/user_guide/indexing.html#returning-a-view-versus-a-copy\n",
      "  isetter(loc, value[:, i].tolist())\n"
     ]
    },
    {
     "data": {
      "text/plain": [
       "Marital Status      False\n",
       "Gender              False\n",
       "Income              False\n",
       "Children            False\n",
       "Education           False\n",
       "Occupation          False\n",
       "Home Owner          False\n",
       "Cars                False\n",
       "Commute Distance    False\n",
       "Region              False\n",
       "Age                 False\n",
       "dtype: bool"
      ]
     },
     "execution_count": 30,
     "metadata": {},
     "output_type": "execute_result"
    }
   ],
   "source": [
    "# Imput missing values\n",
    "\n",
    "# Copy X_train to avoid caveats\n",
    "#X_train = X_train.copy()\n",
    "\n",
    "# Create an imputer for numerical columns \n",
    "numerical_imputer = SimpleImputer(strategy=\"median\")\n",
    "\n",
    "# Apply it on \"Income\", \"Children\", \"Cars\", \"Age\" columns. Careful, we used X[[\"Income\"]] and remaining columns on purpose to get a 2D array instead of 1D\n",
    "X_train[[\"Income\"]] = numerical_imputer.fit_transform(X_train[[\"Income\"]])\n",
    "X_train[[\"Children\"]] = numerical_imputer.fit_transform(X_train[[\"Children\"]])\n",
    "X_train[[\"Cars\"]] = numerical_imputer.fit_transform(X_train[[\"Cars\"]])\n",
    "X_train[[\"Age\"]] = numerical_imputer.fit_transform(X_train[[\"Age\"]])\n",
    "\n",
    "# Create categorical imputer \n",
    "categorical_imputer = SimpleImputer(strategy=\"most_frequent\") # We can use strategy=\"constant\". If “constant”, then replace missing values with fill_value. \n",
    "                                                                                # along with fill_value \n",
    "                                                                                # to replace NaN \n",
    "                                                                                # by whatever is inside fill_value\n",
    "                                                                                # If “most_frequent”, then replace missing using the most frequent value along each column\n",
    "\n",
    "# Apply it on \"Marital Status\", \"Gender\", \"Home Owner\" columns. Careful, we used X[[\"Marital status\"]] and remaining columns on purpose to get a 2D array instead of 1D\n",
    "X_train[[\"Marital Status\"]] = categorical_imputer.fit_transform(X_train[[\"Marital Status\"]])\n",
    "X_train[[\"Gender\"]] = categorical_imputer.fit_transform(X_train[[\"Gender\"]])\n",
    "X_train[[\"Home Owner\"]] = categorical_imputer.fit_transform(X_train[[\"Home Owner\"]])\n",
    "\n",
    "X_train.isnull().any()"
   ]
  },
  {
   "cell_type": "code",
   "execution_count": 31,
   "metadata": {},
   "outputs": [
    {
     "data": {
      "text/plain": [
       "['Marital Status',\n",
       " 'Gender',\n",
       " 'Income',\n",
       " 'Children',\n",
       " 'Education',\n",
       " 'Occupation',\n",
       " 'Home Owner',\n",
       " 'Cars',\n",
       " 'Commute Distance',\n",
       " 'Region',\n",
       " 'Age']"
      ]
     },
     "execution_count": 31,
     "metadata": {},
     "output_type": "execute_result"
    }
   ],
   "source": [
    "features_list"
   ]
  },
  {
   "cell_type": "code",
   "execution_count": 32,
   "metadata": {},
   "outputs": [
    {
     "name": "stdout",
     "output_type": "stream",
     "text": [
      "#### X_train BEFORE preprocessing ####\n",
      "Encoding categorical features and standardizing numerical features...\n",
      "...Done.\n",
      "#### X_train AFTER preprocessing ####\n",
      "[[ 0.          1.          0.          1.          1.          0.\n",
      "   0.          0.          0.          0.          1.          0.\n",
      "   0.          0.          0.          1.          0.          0.\n",
      "   0.          0.          1.          0.          0.          1.\n",
      "  -0.52263902  0.04443387  0.50053348  1.63439506]\n",
      " [ 0.          1.          1.          0.          0.          0.\n",
      "   0.          1.          0.          0.          0.          0.\n",
      "   0.          1.          0.          1.          0.          0.\n",
      "   0.          0.          1.          0.          1.          0.\n",
      "  -0.85290064 -1.18132795 -0.40132865 -1.42320244]\n",
      " [ 1.          0.          0.          1.          1.          0.\n",
      "   0.          0.          0.          0.          1.          0.\n",
      "   0.          0.          0.          1.          0.          0.\n",
      "   1.          0.          0.          0.          1.          0.\n",
      "  -0.19237739  1.27019568  0.50053348  1.63439506]\n",
      " [ 1.          0.          0.          1.          0.          0.\n",
      "   0.          1.          0.          0.          0.          0.\n",
      "   0.          1.          0.          1.          0.          0.\n",
      "   0.          0.          1.          0.          1.          0.\n",
      "   0.13788423 -1.18132795  0.50053348 -0.98640279]\n",
      " [ 1.          0.          1.          0.          0.          0.\n",
      "   0.          1.          0.          1.          0.          0.\n",
      "   0.          0.          0.          1.          0.          1.\n",
      "   0.          0.          0.          0.          1.          0.\n",
      "  -0.52263902  0.65731477 -0.40132865 -1.07376272]]\n",
      "\n",
      "#### y_train BEFORE preprocessing #### - Encoding labels...\n",
      "79     1\n",
      "528    0\n",
      "907    0\n",
      "821    1\n",
      "912    0\n",
      "      ..\n",
      "78     1\n",
      "529    1\n",
      "145    0\n",
      "723    0\n",
      "374    0\n",
      "Name: Purchased Bike, Length: 800, dtype: object\n",
      "\n",
      "...#### y_train AFTER preprocessing ####...\n",
      "[1 0 0 1 0]\n",
      "\n"
     ]
    }
   ],
   "source": [
    "# Make all the required preprocessings on the train set\n",
    "# X_train\n",
    "print(\"#### X_train BEFORE preprocessing ####\")\n",
    "print(\"Encoding categorical features and standardizing numerical features...\")\n",
    "\n",
    "numeric_features = [2, 3, 7, 10] \n",
    "numeric_transformer = StandardScaler()\n",
    "\n",
    "categorical_features = [0, 1, 4, 5, 6, 8, 9] \n",
    "categorical_transformer = OneHotEncoder(sparse=False, handle_unknown='ignore')\n",
    "\n",
    "# Apply ColumnTransformer to create a pipeline that will apply the above preprocessing\n",
    "feature_encoder = ColumnTransformer(\n",
    "    transformers=[\n",
    "        ('cat', categorical_transformer, categorical_features),    \n",
    "        ('num', numeric_transformer, numeric_features)\n",
    "        ]\n",
    "    )\n",
    "\n",
    "X_train = feature_encoder.fit_transform(X_train)\n",
    "print(\"...Done.\")\n",
    "print(\"#### X_train AFTER preprocessing ####\")\n",
    "print(X_train[0:5,:]) # print first 5 rows (not using iloc since now X_train became a numpy array)\n",
    "print()\n",
    "\n",
    "# Encoding labels\n",
    "print(\"#### y_train BEFORE preprocessing #### - Encoding labels...\")\n",
    "print(y_train)\n",
    "print()\n",
    "labelencoder = LabelEncoder()\n",
    "y_train = labelencoder.fit_transform(y_train)\n",
    "print(\"...#### y_train AFTER preprocessing ####...\")\n",
    "print(y_train[:5]) # print first 5 rows (not using iloc since now y_train became a numpy array)\n",
    "print()"
   ]
  },
  {
   "cell_type": "code",
   "execution_count": 33,
   "metadata": {},
   "outputs": [
    {
     "name": "stdout",
     "output_type": "stream",
     "text": [
      "Train model...\n",
      "...Done.\n"
     ]
    }
   ],
   "source": [
    "# Create your Logistic Regression model\n",
    "\n",
    "# Train model\n",
    "print(\"Train model...\")\n",
    "classifier = LogisticRegression()\n",
    "classifier.fit(X_train, y_train) # This steps is the actual training !\n",
    "print(\"...Done.\")"
   ]
  },
  {
   "cell_type": "code",
   "execution_count": 34,
   "metadata": {},
   "outputs": [
    {
     "data": {
      "text/html": [
       "<div>\n",
       "<style scoped>\n",
       "    .dataframe tbody tr th:only-of-type {\n",
       "        vertical-align: middle;\n",
       "    }\n",
       "\n",
       "    .dataframe tbody tr th {\n",
       "        vertical-align: top;\n",
       "    }\n",
       "\n",
       "    .dataframe thead th {\n",
       "        text-align: right;\n",
       "    }\n",
       "</style>\n",
       "<table border=\"1\" class=\"dataframe\">\n",
       "  <thead>\n",
       "    <tr style=\"text-align: right;\">\n",
       "      <th></th>\n",
       "      <th>Marital Status</th>\n",
       "      <th>Gender</th>\n",
       "      <th>Income</th>\n",
       "      <th>Children</th>\n",
       "      <th>Education</th>\n",
       "      <th>Occupation</th>\n",
       "      <th>Home Owner</th>\n",
       "      <th>Cars</th>\n",
       "      <th>Commute Distance</th>\n",
       "      <th>Region</th>\n",
       "      <th>Age</th>\n",
       "    </tr>\n",
       "  </thead>\n",
       "  <tbody>\n",
       "    <tr>\n",
       "      <th>81</th>\n",
       "      <td>Single</td>\n",
       "      <td>Female</td>\n",
       "      <td>10000.0</td>\n",
       "      <td>4.0</td>\n",
       "      <td>Partial High School</td>\n",
       "      <td>Manual</td>\n",
       "      <td>Yes</td>\n",
       "      <td>2.0</td>\n",
       "      <td>0-1 Miles</td>\n",
       "      <td>Europe</td>\n",
       "      <td>40.0</td>\n",
       "    </tr>\n",
       "    <tr>\n",
       "      <th>889</th>\n",
       "      <td>Married</td>\n",
       "      <td>Female</td>\n",
       "      <td>70000.0</td>\n",
       "      <td>1.0</td>\n",
       "      <td>Graduate Degree</td>\n",
       "      <td>Skilled Manual</td>\n",
       "      <td>Yes</td>\n",
       "      <td>0.0</td>\n",
       "      <td>0-1 Miles</td>\n",
       "      <td>North America</td>\n",
       "      <td>35.0</td>\n",
       "    </tr>\n",
       "    <tr>\n",
       "      <th>271</th>\n",
       "      <td>Single</td>\n",
       "      <td>Female</td>\n",
       "      <td>20000.0</td>\n",
       "      <td>0.0</td>\n",
       "      <td>High School</td>\n",
       "      <td>Manual</td>\n",
       "      <td>No</td>\n",
       "      <td>1.0</td>\n",
       "      <td>1-2 Miles</td>\n",
       "      <td>Europe</td>\n",
       "      <td>28.0</td>\n",
       "    </tr>\n",
       "    <tr>\n",
       "      <th>410</th>\n",
       "      <td>Married</td>\n",
       "      <td>Female</td>\n",
       "      <td>20000.0</td>\n",
       "      <td>2.0</td>\n",
       "      <td>Partial College</td>\n",
       "      <td>Manual</td>\n",
       "      <td>Yes</td>\n",
       "      <td>1.0</td>\n",
       "      <td>0-1 Miles</td>\n",
       "      <td>Europe</td>\n",
       "      <td>46.0</td>\n",
       "    </tr>\n",
       "    <tr>\n",
       "      <th>415</th>\n",
       "      <td>Married</td>\n",
       "      <td>Female</td>\n",
       "      <td>80000.0</td>\n",
       "      <td>5.0</td>\n",
       "      <td>Graduate Degree</td>\n",
       "      <td>Management</td>\n",
       "      <td>Yes</td>\n",
       "      <td>3.0</td>\n",
       "      <td>0-1 Miles</td>\n",
       "      <td>Pacific</td>\n",
       "      <td>40.0</td>\n",
       "    </tr>\n",
       "    <tr>\n",
       "      <th>...</th>\n",
       "      <td>...</td>\n",
       "      <td>...</td>\n",
       "      <td>...</td>\n",
       "      <td>...</td>\n",
       "      <td>...</td>\n",
       "      <td>...</td>\n",
       "      <td>...</td>\n",
       "      <td>...</td>\n",
       "      <td>...</td>\n",
       "      <td>...</td>\n",
       "      <td>...</td>\n",
       "    </tr>\n",
       "    <tr>\n",
       "      <th>760</th>\n",
       "      <td>Single</td>\n",
       "      <td>Male</td>\n",
       "      <td>20000.0</td>\n",
       "      <td>3.0</td>\n",
       "      <td>Partial High School</td>\n",
       "      <td>Clerical</td>\n",
       "      <td>No</td>\n",
       "      <td>2.0</td>\n",
       "      <td>0-1 Miles</td>\n",
       "      <td>North America</td>\n",
       "      <td>50.0</td>\n",
       "    </tr>\n",
       "    <tr>\n",
       "      <th>676</th>\n",
       "      <td>Married</td>\n",
       "      <td>Male</td>\n",
       "      <td>40000.0</td>\n",
       "      <td>2.0</td>\n",
       "      <td>Partial College</td>\n",
       "      <td>Clerical</td>\n",
       "      <td>Yes</td>\n",
       "      <td>1.0</td>\n",
       "      <td>0-1 Miles</td>\n",
       "      <td>North America</td>\n",
       "      <td>47.0</td>\n",
       "    </tr>\n",
       "    <tr>\n",
       "      <th>524</th>\n",
       "      <td>Single</td>\n",
       "      <td>Female</td>\n",
       "      <td>80000.0</td>\n",
       "      <td>4.0</td>\n",
       "      <td>Graduate Degree</td>\n",
       "      <td>Management</td>\n",
       "      <td>Yes</td>\n",
       "      <td>2.0</td>\n",
       "      <td>5-10 Miles</td>\n",
       "      <td>North America</td>\n",
       "      <td>67.0</td>\n",
       "    </tr>\n",
       "    <tr>\n",
       "      <th>172</th>\n",
       "      <td>Married</td>\n",
       "      <td>Male</td>\n",
       "      <td>10000.0</td>\n",
       "      <td>0.0</td>\n",
       "      <td>Partial High School</td>\n",
       "      <td>Manual</td>\n",
       "      <td>No</td>\n",
       "      <td>2.0</td>\n",
       "      <td>0-1 Miles</td>\n",
       "      <td>Europe</td>\n",
       "      <td>33.0</td>\n",
       "    </tr>\n",
       "    <tr>\n",
       "      <th>788</th>\n",
       "      <td>Single</td>\n",
       "      <td>Female</td>\n",
       "      <td>20000.0</td>\n",
       "      <td>2.0</td>\n",
       "      <td>Partial High School</td>\n",
       "      <td>Clerical</td>\n",
       "      <td>Yes</td>\n",
       "      <td>2.0</td>\n",
       "      <td>1-2 Miles</td>\n",
       "      <td>North America</td>\n",
       "      <td>49.0</td>\n",
       "    </tr>\n",
       "  </tbody>\n",
       "</table>\n",
       "<p>200 rows × 11 columns</p>\n",
       "</div>"
      ],
      "text/plain": [
       "    Marital Status  Gender   Income  Children            Education  \\\n",
       "81          Single  Female  10000.0       4.0  Partial High School   \n",
       "889        Married  Female  70000.0       1.0      Graduate Degree   \n",
       "271         Single  Female  20000.0       0.0          High School   \n",
       "410        Married  Female  20000.0       2.0      Partial College   \n",
       "415        Married  Female  80000.0       5.0      Graduate Degree   \n",
       "..             ...     ...      ...       ...                  ...   \n",
       "760         Single    Male  20000.0       3.0  Partial High School   \n",
       "676        Married    Male  40000.0       2.0      Partial College   \n",
       "524         Single  Female  80000.0       4.0      Graduate Degree   \n",
       "172        Married    Male  10000.0       0.0  Partial High School   \n",
       "788         Single  Female  20000.0       2.0  Partial High School   \n",
       "\n",
       "         Occupation Home Owner  Cars Commute Distance         Region   Age  \n",
       "81           Manual        Yes   2.0        0-1 Miles         Europe  40.0  \n",
       "889  Skilled Manual        Yes   0.0        0-1 Miles  North America  35.0  \n",
       "271          Manual         No   1.0        1-2 Miles         Europe  28.0  \n",
       "410          Manual        Yes   1.0        0-1 Miles         Europe  46.0  \n",
       "415      Management        Yes   3.0        0-1 Miles        Pacific  40.0  \n",
       "..              ...        ...   ...              ...            ...   ...  \n",
       "760        Clerical         No   2.0        0-1 Miles  North America  50.0  \n",
       "676        Clerical        Yes   1.0        0-1 Miles  North America  47.0  \n",
       "524      Management        Yes   2.0       5-10 Miles  North America  67.0  \n",
       "172          Manual         No   2.0        0-1 Miles         Europe  33.0  \n",
       "788        Clerical        Yes   2.0        1-2 Miles  North America  49.0  \n",
       "\n",
       "[200 rows x 11 columns]"
      ]
     },
     "execution_count": 34,
     "metadata": {},
     "output_type": "execute_result"
    }
   ],
   "source": [
    "X_test"
   ]
  },
  {
   "cell_type": "code",
   "execution_count": 35,
   "metadata": {},
   "outputs": [
    {
     "name": "stderr",
     "output_type": "stream",
     "text": [
      "<ipython-input-35-ab50a95fe491>:12: SettingWithCopyWarning: \n",
      "A value is trying to be set on a copy of a slice from a DataFrame.\n",
      "Try using .loc[row_indexer,col_indexer] = value instead\n",
      "\n",
      "See the caveats in the documentation: https://pandas.pydata.org/pandas-docs/stable/user_guide/indexing.html#returning-a-view-versus-a-copy\n",
      "  X_test[[\"Income\"]] = numerical_imputer.transform(X_test[[\"Income\"]])\n",
      "/opt/conda/lib/python3.8/site-packages/pandas/core/indexing.py:1736: SettingWithCopyWarning: \n",
      "A value is trying to be set on a copy of a slice from a DataFrame.\n",
      "Try using .loc[row_indexer,col_indexer] = value instead\n",
      "\n",
      "See the caveats in the documentation: https://pandas.pydata.org/pandas-docs/stable/user_guide/indexing.html#returning-a-view-versus-a-copy\n",
      "  isetter(loc, value[:, i].tolist())\n",
      "<ipython-input-35-ab50a95fe491>:13: SettingWithCopyWarning: \n",
      "A value is trying to be set on a copy of a slice from a DataFrame.\n",
      "Try using .loc[row_indexer,col_indexer] = value instead\n",
      "\n",
      "See the caveats in the documentation: https://pandas.pydata.org/pandas-docs/stable/user_guide/indexing.html#returning-a-view-versus-a-copy\n",
      "  X_test[[\"Children\"]] = numerical_imputer.transform(X_test[[\"Children\"]])\n",
      "/opt/conda/lib/python3.8/site-packages/pandas/core/indexing.py:1736: SettingWithCopyWarning: \n",
      "A value is trying to be set on a copy of a slice from a DataFrame.\n",
      "Try using .loc[row_indexer,col_indexer] = value instead\n",
      "\n",
      "See the caveats in the documentation: https://pandas.pydata.org/pandas-docs/stable/user_guide/indexing.html#returning-a-view-versus-a-copy\n",
      "  isetter(loc, value[:, i].tolist())\n",
      "<ipython-input-35-ab50a95fe491>:14: SettingWithCopyWarning: \n",
      "A value is trying to be set on a copy of a slice from a DataFrame.\n",
      "Try using .loc[row_indexer,col_indexer] = value instead\n",
      "\n",
      "See the caveats in the documentation: https://pandas.pydata.org/pandas-docs/stable/user_guide/indexing.html#returning-a-view-versus-a-copy\n",
      "  X_test[[\"Cars\"]] = numerical_imputer.transform(X_test[[\"Cars\"]])\n",
      "/opt/conda/lib/python3.8/site-packages/pandas/core/indexing.py:1736: SettingWithCopyWarning: \n",
      "A value is trying to be set on a copy of a slice from a DataFrame.\n",
      "Try using .loc[row_indexer,col_indexer] = value instead\n",
      "\n",
      "See the caveats in the documentation: https://pandas.pydata.org/pandas-docs/stable/user_guide/indexing.html#returning-a-view-versus-a-copy\n",
      "  isetter(loc, value[:, i].tolist())\n",
      "<ipython-input-35-ab50a95fe491>:15: SettingWithCopyWarning: \n",
      "A value is trying to be set on a copy of a slice from a DataFrame.\n",
      "Try using .loc[row_indexer,col_indexer] = value instead\n",
      "\n",
      "See the caveats in the documentation: https://pandas.pydata.org/pandas-docs/stable/user_guide/indexing.html#returning-a-view-versus-a-copy\n",
      "  X_test[[\"Age\"]] = numerical_imputer.transform(X_test[[\"Age\"]])\n",
      "/opt/conda/lib/python3.8/site-packages/pandas/core/indexing.py:1736: SettingWithCopyWarning: \n",
      "A value is trying to be set on a copy of a slice from a DataFrame.\n",
      "Try using .loc[row_indexer,col_indexer] = value instead\n",
      "\n",
      "See the caveats in the documentation: https://pandas.pydata.org/pandas-docs/stable/user_guide/indexing.html#returning-a-view-versus-a-copy\n",
      "  isetter(loc, value[:, i].tolist())\n",
      "<ipython-input-35-ab50a95fe491>:21: SettingWithCopyWarning: \n",
      "A value is trying to be set on a copy of a slice from a DataFrame.\n",
      "Try using .loc[row_indexer,col_indexer] = value instead\n",
      "\n",
      "See the caveats in the documentation: https://pandas.pydata.org/pandas-docs/stable/user_guide/indexing.html#returning-a-view-versus-a-copy\n",
      "  X_test[\"Home Owner\"] = categorical_imputer.transform(X_test[[\"Home Owner\"]])\n",
      "<ipython-input-35-ab50a95fe491>:22: SettingWithCopyWarning: \n",
      "A value is trying to be set on a copy of a slice from a DataFrame.\n",
      "Try using .loc[row_indexer,col_indexer] = value instead\n",
      "\n",
      "See the caveats in the documentation: https://pandas.pydata.org/pandas-docs/stable/user_guide/indexing.html#returning-a-view-versus-a-copy\n",
      "  X_test[\"Marital Status\"] = categorical_imputer.transform(X_test[[\"Marital Status\"]])\n",
      "<ipython-input-35-ab50a95fe491>:23: SettingWithCopyWarning: \n",
      "A value is trying to be set on a copy of a slice from a DataFrame.\n",
      "Try using .loc[row_indexer,col_indexer] = value instead\n",
      "\n",
      "See the caveats in the documentation: https://pandas.pydata.org/pandas-docs/stable/user_guide/indexing.html#returning-a-view-versus-a-copy\n",
      "  X_test[\"Gender\"] = categorical_imputer.transform(X_test[[\"Gender\"]])\n"
     ]
    },
    {
     "data": {
      "text/plain": [
       "Marital Status      False\n",
       "Gender              False\n",
       "Income              False\n",
       "Children            False\n",
       "Education           False\n",
       "Occupation          False\n",
       "Home Owner          False\n",
       "Cars                False\n",
       "Commute Distance    False\n",
       "Region              False\n",
       "Age                 False\n",
       "dtype: bool"
      ]
     },
     "execution_count": 35,
     "metadata": {},
     "output_type": "execute_result"
    }
   ],
   "source": [
    "# Evaluate it (don't forget to preprocess X_test) (logistic regression)\n",
    "\n",
    "# Imput missing values for X_test\n",
    "\n",
    "# Copy X_test to avoid caveats\n",
    "#X_test = X_test.copy()\n",
    "\n",
    "# Create an imputer for numerical columns \n",
    "# numerical_imputer = SimpleImputer(strategy=\"median\") >> to remove in order to ensure it uses the same transformation as for X_train\n",
    "\n",
    "# Apply it on \"Income\", \"Children\", \"Cars\", \"Age\" columns. Careful, we used X[[\"Income\"]] and remaining columns on purpose to get a 2D array instead of 1D\n",
    "X_test[[\"Income\"]] = numerical_imputer.transform(X_test[[\"Income\"]])\n",
    "X_test[[\"Children\"]] = numerical_imputer.transform(X_test[[\"Children\"]])\n",
    "X_test[[\"Cars\"]] = numerical_imputer.transform(X_test[[\"Cars\"]])\n",
    "X_test[[\"Age\"]] = numerical_imputer.transform(X_test[[\"Age\"]])\n",
    "\n",
    "# Create categorical imputer \n",
    "# categorical_imputer = SimpleImputer(strategy=\"most_frequent\") #>> to remove in order to ensure it uses the same transformation as for X_train\n",
    "\n",
    "# Apply it on \"Marital Status\", \"Gender\", \"Home Owner\" columns. Careful, we used X[[\"Marital status\"]] and remaining columns on purpose to get a 2D array instead of 1D\n",
    "X_test[\"Home Owner\"] = categorical_imputer.transform(X_test[[\"Home Owner\"]])\n",
    "X_test[\"Marital Status\"] = categorical_imputer.transform(X_test[[\"Marital Status\"]])\n",
    "X_test[\"Gender\"] = categorical_imputer.transform(X_test[[\"Gender\"]])\n",
    "\n",
    "\n",
    "X_test.isnull().any()"
   ]
  },
  {
   "cell_type": "code",
   "execution_count": 36,
   "metadata": {},
   "outputs": [],
   "source": [
    "mask = X_test[X_test['Gender'] == 'Yes']"
   ]
  },
  {
   "cell_type": "code",
   "execution_count": 37,
   "metadata": {},
   "outputs": [
    {
     "data": {
      "text/html": [
       "<div>\n",
       "<style scoped>\n",
       "    .dataframe tbody tr th:only-of-type {\n",
       "        vertical-align: middle;\n",
       "    }\n",
       "\n",
       "    .dataframe tbody tr th {\n",
       "        vertical-align: top;\n",
       "    }\n",
       "\n",
       "    .dataframe thead th {\n",
       "        text-align: right;\n",
       "    }\n",
       "</style>\n",
       "<table border=\"1\" class=\"dataframe\">\n",
       "  <thead>\n",
       "    <tr style=\"text-align: right;\">\n",
       "      <th></th>\n",
       "      <th>Marital Status</th>\n",
       "      <th>Gender</th>\n",
       "      <th>Income</th>\n",
       "      <th>Children</th>\n",
       "      <th>Education</th>\n",
       "      <th>Occupation</th>\n",
       "      <th>Home Owner</th>\n",
       "      <th>Cars</th>\n",
       "      <th>Commute Distance</th>\n",
       "      <th>Region</th>\n",
       "      <th>Age</th>\n",
       "    </tr>\n",
       "  </thead>\n",
       "  <tbody>\n",
       "    <tr>\n",
       "      <th>908</th>\n",
       "      <td>Single</td>\n",
       "      <td>Yes</td>\n",
       "      <td>50000.0</td>\n",
       "      <td>3.0</td>\n",
       "      <td>Bachelors</td>\n",
       "      <td>Skilled Manual</td>\n",
       "      <td>Yes</td>\n",
       "      <td>2.0</td>\n",
       "      <td>2-5 Miles</td>\n",
       "      <td>North America</td>\n",
       "      <td>41.0</td>\n",
       "    </tr>\n",
       "  </tbody>\n",
       "</table>\n",
       "</div>"
      ],
      "text/plain": [
       "    Marital Status Gender   Income  Children  Education      Occupation  \\\n",
       "908         Single    Yes  50000.0       3.0  Bachelors  Skilled Manual   \n",
       "\n",
       "    Home Owner  Cars Commute Distance         Region   Age  \n",
       "908        Yes   2.0        2-5 Miles  North America  41.0  "
      ]
     },
     "execution_count": 37,
     "metadata": {},
     "output_type": "execute_result"
    }
   ],
   "source": [
    "mask"
   ]
  },
  {
   "cell_type": "code",
   "execution_count": 38,
   "metadata": {},
   "outputs": [],
   "source": [
    "#X_test['Gender'][908] = 'Female' "
   ]
  },
  {
   "cell_type": "code",
   "execution_count": 39,
   "metadata": {},
   "outputs": [],
   "source": [
    "#X_test[\"Gender\"].value_counts()"
   ]
  },
  {
   "cell_type": "code",
   "execution_count": 40,
   "metadata": {},
   "outputs": [
    {
     "name": "stdout",
     "output_type": "stream",
     "text": [
      "#### X_test BEFORE preprocessing ####\n",
      "Encoding categorical features and standardizing numerical features...test set\n",
      "#### X_test BEFORE preprocessing ####\n",
      "    Marital Status  Gender   Income  Children            Education  \\\n",
      "81          Single  Female  10000.0       4.0  Partial High School   \n",
      "889        Married  Female  70000.0       1.0      Graduate Degree   \n",
      "271         Single  Female  20000.0       0.0          High School   \n",
      "410        Married  Female  20000.0       2.0      Partial College   \n",
      "415        Married  Female  80000.0       5.0      Graduate Degree   \n",
      "..             ...     ...      ...       ...                  ...   \n",
      "760         Single    Male  20000.0       3.0  Partial High School   \n",
      "676        Married    Male  40000.0       2.0      Partial College   \n",
      "524         Single  Female  80000.0       4.0      Graduate Degree   \n",
      "172        Married    Male  10000.0       0.0  Partial High School   \n",
      "788         Single  Female  20000.0       2.0  Partial High School   \n",
      "\n",
      "         Occupation Home Owner  Cars Commute Distance         Region   Age  \n",
      "81           Manual        Yes   2.0        0-1 Miles         Europe  40.0  \n",
      "889  Skilled Manual        Yes   0.0        0-1 Miles  North America  35.0  \n",
      "271          Manual         No   1.0        1-2 Miles         Europe  28.0  \n",
      "410          Manual        Yes   1.0        0-1 Miles         Europe  46.0  \n",
      "415      Management        Yes   3.0        0-1 Miles        Pacific  40.0  \n",
      "..              ...        ...   ...              ...            ...   ...  \n",
      "760        Clerical         No   2.0        0-1 Miles  North America  50.0  \n",
      "676        Clerical        Yes   1.0        0-1 Miles  North America  47.0  \n",
      "524      Management        Yes   2.0       5-10 Miles  North America  67.0  \n",
      "172          Manual         No   2.0        0-1 Miles         Europe  33.0  \n",
      "788        Clerical        Yes   2.0        1-2 Miles  North America  49.0  \n",
      "\n",
      "[200 rows x 11 columns]\n",
      "\n",
      "#### X_test AFTER preprocessing ####\n",
      "[[ 0.          1.          1.         ...  1.27019568  0.50053348\n",
      "  -0.37488329]\n",
      " [ 1.          0.          1.         ... -0.56844704 -1.30319077\n",
      "  -0.81168294]\n",
      " [ 0.          1.          1.         ... -1.18132795 -0.40132865\n",
      "  -1.42320244]\n",
      " ...\n",
      " [ 0.          1.          1.         ...  1.27019568  0.50053348\n",
      "   1.98383478]\n",
      " [ 1.          0.          0.         ... -1.18132795  0.50053348\n",
      "  -0.98640279]\n",
      " [ 0.          1.          1.         ...  0.04443387  0.50053348\n",
      "   0.41135606]]\n",
      "\n",
      "#### y_train BEFORE preprocessing #### - Encoding labels...\n",
      "81     0\n",
      "889    1\n",
      "271    0\n",
      "410    1\n",
      "415    0\n",
      "      ..\n",
      "760    0\n",
      "676    0\n",
      "524    0\n",
      "172    0\n",
      "788    0\n",
      "Name: Purchased Bike, Length: 200, dtype: object\n",
      "\n",
      "...#### y_train AFTER preprocessing ####...\n",
      "[0 1 0 1 0 0 1 1 1 1 0 1 1 1 1 1 0 1 1 1 0 0 1 1 0 0 1 1 1 1 1 1 0 1 0 1 1\n",
      " 1 1 0 1 1 0 0 1 0 1 1 0 0 0 0 0 0 0 0 0 0 1 0 0 0 1 0 1 1 1 0 0 1 0 1 0 0\n",
      " 0 0 0 0 0 1 0 0 1 1 1 0 0 1 0 1 1 1 1 0 1 1 0 0 1 0 0 0 0 1 1 0 0 0 0 1 1\n",
      " 1 1 0 1 0 0 0 1 1 0 1 1 1 1 0 0 1 0 1 0 0 0 1 0 0 0 1 0 0 0 1 0 1 1 0 0 1\n",
      " 0 0 1 0 1 1 0 0 1 1 0 0 1 0 0 1 0 0 0 0 0 1 1 0 0 0 1 1 1 1 1 0 0 0 1 0 1\n",
      " 1 1 1 1 1 1 0 1 0 1 0 0 0 0 0]\n",
      "\n"
     ]
    }
   ],
   "source": [
    "# Make all the required preprocessings on the test set\n",
    "# X_test\n",
    "print(\"#### X_test BEFORE preprocessing ####\")\n",
    "print(\"Encoding categorical features and standardizing numerical features...test set\")\n",
    "\n",
    "print(\"#### X_test BEFORE preprocessing ####\")\n",
    "print(X_test)\n",
    "print()\n",
    "\n",
    "X_test = feature_encoder.transform(X_test)\n",
    "#print(\"...Done.\")\n",
    "print(\"#### X_test AFTER preprocessing ####\")\n",
    "print(X_test)\n",
    "print()\n",
    "\n",
    "# Encoding labels\n",
    "print(\"#### y_train BEFORE preprocessing #### - Encoding labels...\")\n",
    "print(y_test)\n",
    "print()\n",
    "#labelencoder_test = LabelEncoder()\n",
    "y_test = labelencoder.transform(y_test)\n",
    "print(\"...#### y_train AFTER preprocessing ####...\")\n",
    "print(y_test)\n",
    "print()"
   ]
  },
  {
   "cell_type": "markdown",
   "metadata": {},
   "source": [
    "# Conclusion"
   ]
  },
  {
   "cell_type": "markdown",
   "metadata": {},
   "source": [
    "## Score"
   ]
  },
  {
   "cell_type": "code",
   "execution_count": 41,
   "metadata": {},
   "outputs": [
    {
     "name": "stdout",
     "output_type": "stream",
     "text": [
      "Train score:  0.665\n",
      "Test score:  0.615\n"
     ]
    }
   ],
   "source": [
    "print(\"Train score: \", classifier.score(X_train, y_train))\n",
    "print(\"Test score: \", classifier.score(X_test, y_test))"
   ]
  },
  {
   "cell_type": "code",
   "execution_count": 42,
   "metadata": {},
   "outputs": [],
   "source": [
    "# Conclusion: Performance seems to be quite low using logistic regression"
   ]
  },
  {
   "cell_type": "code",
   "execution_count": 43,
   "metadata": {},
   "outputs": [
    {
     "name": "stdout",
     "output_type": "stream",
     "text": [
      "--- Assessment of performances---\n",
      "---logistic regression---\n"
     ]
    },
    {
     "data": {
      "image/png": "[encoded data removed]",
      "text/plain": [
       "<Figure size 432x288 with 2 Axes>"
      ]
     },
     "metadata": {
      "needs_background": "light"
     },
     "output_type": "display_data"
    },
    {
     "name": "stdout",
     "output_type": "stream",
     "text": [
      "accuracy-score on train set :  0.665\n"
     ]
    },
    {
     "data": {
      "image/png": "[encoded data removed]",
      "text/plain": [
       "<Figure size 432x288 with 2 Axes>"
      ]
     },
     "metadata": {
      "needs_background": "light"
     },
     "output_type": "display_data"
    },
    {
     "name": "stdout",
     "output_type": "stream",
     "text": [
      "accuracy-score on test set :  0.615\n"
     ]
    }
   ],
   "source": [
    "# Create a confusion matrix (logistic regression)\n",
    "\n",
    "### Assessment of performances ###\n",
    "print(\"--- Assessment of performances---\")\n",
    "print(\"---logistic regression---\")\n",
    "\n",
    "# Plot confusion matrix\n",
    "cm = plot_confusion_matrix(classifier, X_train, y_train,cmap = plt.cm.GnBu)\n",
    "cm.ax_.set_title(\"Confusion matrix on train set \") # Simply to set a title\n",
    "plt.show() # Show graph\n",
    "print(\"accuracy-score on train set : \", classifier.score(X_train, y_train))\n",
    "\n",
    "cm = plot_confusion_matrix(classifier, X_test, y_test, cmap = plt.cm.GnBu)\n",
    "cm.ax_.set_title(\"Confusion matrix on test set \")\n",
    "plt.show() # Show graph\n",
    "print(\"accuracy-score on test set : \", classifier.score(X_test, y_test))"
   ]
  },
  {
   "cell_type": "code",
   "execution_count": 44,
   "metadata": {},
   "outputs": [
    {
     "data": {
      "text/plain": [
       "array([-0.37274736,  0.3727752 , -0.00856497,  0.00859281,  0.14466232,\n",
       "       -0.08838471,  0.42185801, -0.15564275, -0.32246504,  0.16209274,\n",
       "       -0.23338907, -0.04558036,  0.25920464, -0.14230011, -0.17869072,\n",
       "        0.17871856,  0.3621755 ,  0.11187894, -0.64096902,  0.39155064,\n",
       "       -0.22460823, -0.32698925, -0.25325394,  0.58027103,  0.43425419,\n",
       "       -0.23297147, -0.44772183,  0.05029969])"
      ]
     },
     "execution_count": 44,
     "metadata": {},
     "output_type": "execute_result"
    }
   ],
   "source": [
    "# Check coefficients (pre-step)\n",
    "\n",
    "classifier.coef_[0].squeeze()"
   ]
  },
  {
   "cell_type": "code",
   "execution_count": 45,
   "metadata": {},
   "outputs": [
    {
     "name": "stdout",
     "output_type": "stream",
     "text": [
      "coefficients are:  [[-0.37274736  0.3727752  -0.00856497  0.00859281  0.14466232 -0.08838471\n",
      "   0.42185801 -0.15564275 -0.32246504  0.16209274 -0.23338907 -0.04558036\n",
      "   0.25920464 -0.14230011 -0.17869072  0.17871856  0.3621755   0.11187894\n",
      "  -0.64096902  0.39155064 -0.22460823 -0.32698925 -0.25325394  0.58027103\n",
      "   0.43425419 -0.23297147 -0.44772183  0.05029969]]\n",
      "Constant is:  [-0.17231557]\n",
      "All transformers are:  [('cat', OneHotEncoder(handle_unknown='ignore', sparse=False), [0, 1, 4, 5, 6, 8, 9]), ('num', StandardScaler(), [2, 3, 7, 10])]\n",
      "One Hot Encoder transformer is:  OneHotEncoder(handle_unknown='ignore', sparse=False)\n",
      "Categorical columns are:  ['Married', 'Single', 'Female', 'Male', 'Bachelors', 'Graduate Degree', 'High School', 'Partial College', 'Partial High School', 'Clerical', 'Management', 'Manual', 'Professional', 'Skilled Manual', 'No', 'Yes', '0-1 Miles', '1-2 Miles', '10+ Miles', '2-5 Miles', '5-10 Miles', 'Europe', 'North America', 'Pacific']\n",
      "numerical columns are:  Index(['Income', 'Children', 'Cars', 'Age'], dtype='object')\n",
      "All column names are:  ['Married' 'Single' 'Female' 'Male' 'Bachelors' 'Graduate Degree'\n",
      " 'High School' 'Partial College' 'Partial High School' 'Clerical'\n",
      " 'Management' 'Manual' 'Professional' 'Skilled Manual' 'No' 'Yes'\n",
      " '0-1 Miles' '1-2 Miles' '10+ Miles' '2-5 Miles' '5-10 Miles' 'Europe'\n",
      " 'North America' 'Pacific' 'Income' 'Children' 'Cars' 'Age']\n"
     ]
    }
   ],
   "source": [
    "print(\"coefficients are: \", classifier.coef_) \n",
    "print(\"Constant is: \", classifier.intercept_)\n",
    "\n",
    "# Access transformers from feature_encoder\n",
    "print(\"All transformers are: \", feature_encoder.transformers_)\n",
    "\n",
    "# Access one specific transformer\n",
    "print(\"One Hot Encoder transformer is: \", feature_encoder.transformers_[0][1])\n",
    "\n",
    "# Print categories\n",
    "categorical_column_names = feature_encoder.transformers_[0][1].categories_\n",
    "\n",
    "flat_cat_features = [item for array in categorical_column_names for item in array]\n",
    "print(\"Categorical columns are: \", flat_cat_features)\n",
    "\n",
    "# Print numerical columns\n",
    "numerical_column_names = X.iloc[:, numeric_features].columns # using the .columns attribute gives us the name of the column \n",
    "print(\"numerical columns are: \", numerical_column_names)\n",
    "\n",
    "# Append all columns \n",
    "all_column_names = np.append(flat_cat_features, numerical_column_names)\n",
    "print(\"All column names are: \",all_column_names)\n",
    "\n",
    "# Feature importance \n",
    "feature_importance = pd.DataFrame({\n",
    "    \"feature_names\": all_column_names,\n",
    "    \"coefficients\": classifier.coef_[0].squeeze() # CAREFUL HERE. We need to access first index of our list because \n",
    "                                            # Data need to be 1 dimensional\n",
    "                                            # That's what .squeeze()\n",
    "})"
   ]
  },
  {
   "cell_type": "code",
   "execution_count": 46,
   "metadata": {},
   "outputs": [
    {
     "data": {
      "text/html": [
       "<div>\n",
       "<style scoped>\n",
       "    .dataframe tbody tr th:only-of-type {\n",
       "        vertical-align: middle;\n",
       "    }\n",
       "\n",
       "    .dataframe tbody tr th {\n",
       "        vertical-align: top;\n",
       "    }\n",
       "\n",
       "    .dataframe thead th {\n",
       "        text-align: right;\n",
       "    }\n",
       "</style>\n",
       "<table border=\"1\" class=\"dataframe\">\n",
       "  <thead>\n",
       "    <tr style=\"text-align: right;\">\n",
       "      <th></th>\n",
       "      <th>feature_names</th>\n",
       "      <th>coefficients</th>\n",
       "    </tr>\n",
       "  </thead>\n",
       "  <tbody>\n",
       "    <tr>\n",
       "      <th>0</th>\n",
       "      <td>Married</td>\n",
       "      <td>-0.372747</td>\n",
       "    </tr>\n",
       "    <tr>\n",
       "      <th>1</th>\n",
       "      <td>Single</td>\n",
       "      <td>0.372775</td>\n",
       "    </tr>\n",
       "    <tr>\n",
       "      <th>2</th>\n",
       "      <td>Female</td>\n",
       "      <td>-0.008565</td>\n",
       "    </tr>\n",
       "    <tr>\n",
       "      <th>3</th>\n",
       "      <td>Male</td>\n",
       "      <td>0.008593</td>\n",
       "    </tr>\n",
       "    <tr>\n",
       "      <th>4</th>\n",
       "      <td>Bachelors</td>\n",
       "      <td>0.144662</td>\n",
       "    </tr>\n",
       "    <tr>\n",
       "      <th>5</th>\n",
       "      <td>Graduate Degree</td>\n",
       "      <td>-0.088385</td>\n",
       "    </tr>\n",
       "    <tr>\n",
       "      <th>6</th>\n",
       "      <td>High School</td>\n",
       "      <td>0.421858</td>\n",
       "    </tr>\n",
       "    <tr>\n",
       "      <th>7</th>\n",
       "      <td>Partial College</td>\n",
       "      <td>-0.155643</td>\n",
       "    </tr>\n",
       "    <tr>\n",
       "      <th>8</th>\n",
       "      <td>Partial High School</td>\n",
       "      <td>-0.322465</td>\n",
       "    </tr>\n",
       "    <tr>\n",
       "      <th>9</th>\n",
       "      <td>Clerical</td>\n",
       "      <td>0.162093</td>\n",
       "    </tr>\n",
       "    <tr>\n",
       "      <th>10</th>\n",
       "      <td>Management</td>\n",
       "      <td>-0.233389</td>\n",
       "    </tr>\n",
       "    <tr>\n",
       "      <th>11</th>\n",
       "      <td>Manual</td>\n",
       "      <td>-0.045580</td>\n",
       "    </tr>\n",
       "    <tr>\n",
       "      <th>12</th>\n",
       "      <td>Professional</td>\n",
       "      <td>0.259205</td>\n",
       "    </tr>\n",
       "    <tr>\n",
       "      <th>13</th>\n",
       "      <td>Skilled Manual</td>\n",
       "      <td>-0.142300</td>\n",
       "    </tr>\n",
       "    <tr>\n",
       "      <th>14</th>\n",
       "      <td>No</td>\n",
       "      <td>-0.178691</td>\n",
       "    </tr>\n",
       "    <tr>\n",
       "      <th>15</th>\n",
       "      <td>Yes</td>\n",
       "      <td>0.178719</td>\n",
       "    </tr>\n",
       "    <tr>\n",
       "      <th>16</th>\n",
       "      <td>0-1 Miles</td>\n",
       "      <td>0.362176</td>\n",
       "    </tr>\n",
       "    <tr>\n",
       "      <th>17</th>\n",
       "      <td>1-2 Miles</td>\n",
       "      <td>0.111879</td>\n",
       "    </tr>\n",
       "    <tr>\n",
       "      <th>18</th>\n",
       "      <td>10+ Miles</td>\n",
       "      <td>-0.640969</td>\n",
       "    </tr>\n",
       "    <tr>\n",
       "      <th>19</th>\n",
       "      <td>2-5 Miles</td>\n",
       "      <td>0.391551</td>\n",
       "    </tr>\n",
       "    <tr>\n",
       "      <th>20</th>\n",
       "      <td>5-10 Miles</td>\n",
       "      <td>-0.224608</td>\n",
       "    </tr>\n",
       "    <tr>\n",
       "      <th>21</th>\n",
       "      <td>Europe</td>\n",
       "      <td>-0.326989</td>\n",
       "    </tr>\n",
       "    <tr>\n",
       "      <th>22</th>\n",
       "      <td>North America</td>\n",
       "      <td>-0.253254</td>\n",
       "    </tr>\n",
       "    <tr>\n",
       "      <th>23</th>\n",
       "      <td>Pacific</td>\n",
       "      <td>0.580271</td>\n",
       "    </tr>\n",
       "    <tr>\n",
       "      <th>24</th>\n",
       "      <td>Income</td>\n",
       "      <td>0.434254</td>\n",
       "    </tr>\n",
       "    <tr>\n",
       "      <th>25</th>\n",
       "      <td>Children</td>\n",
       "      <td>-0.232971</td>\n",
       "    </tr>\n",
       "    <tr>\n",
       "      <th>26</th>\n",
       "      <td>Cars</td>\n",
       "      <td>-0.447722</td>\n",
       "    </tr>\n",
       "    <tr>\n",
       "      <th>27</th>\n",
       "      <td>Age</td>\n",
       "      <td>0.050300</td>\n",
       "    </tr>\n",
       "  </tbody>\n",
       "</table>\n",
       "</div>"
      ],
      "text/plain": [
       "          feature_names  coefficients\n",
       "0               Married     -0.372747\n",
       "1                Single      0.372775\n",
       "2                Female     -0.008565\n",
       "3                  Male      0.008593\n",
       "4             Bachelors      0.144662\n",
       "5       Graduate Degree     -0.088385\n",
       "6           High School      0.421858\n",
       "7       Partial College     -0.155643\n",
       "8   Partial High School     -0.322465\n",
       "9              Clerical      0.162093\n",
       "10           Management     -0.233389\n",
       "11               Manual     -0.045580\n",
       "12         Professional      0.259205\n",
       "13       Skilled Manual     -0.142300\n",
       "14                   No     -0.178691\n",
       "15                  Yes      0.178719\n",
       "16            0-1 Miles      0.362176\n",
       "17            1-2 Miles      0.111879\n",
       "18            10+ Miles     -0.640969\n",
       "19            2-5 Miles      0.391551\n",
       "20           5-10 Miles     -0.224608\n",
       "21               Europe     -0.326989\n",
       "22        North America     -0.253254\n",
       "23              Pacific      0.580271\n",
       "24               Income      0.434254\n",
       "25             Children     -0.232971\n",
       "26                 Cars     -0.447722\n",
       "27                  Age      0.050300"
      ]
     },
     "execution_count": 46,
     "metadata": {},
     "output_type": "execute_result"
    }
   ],
   "source": [
    "feature_importance"
   ]
  },
  {
   "cell_type": "code",
   "execution_count": 47,
   "metadata": {},
   "outputs": [
    {
     "data": {
      "text/plain": [
       "<seaborn.axisgrid.FacetGrid at 0x7fb8a28760d0>"
      ]
     },
     "execution_count": 47,
     "metadata": {},
     "output_type": "execute_result"
    },
    {
     "data": {
      "image/png": "[encoded data removed]",
      "text/plain": [
       "<Figure size 1800x360 with 1 Axes>"
      ]
     },
     "metadata": {
      "needs_background": "light"
     },
     "output_type": "display_data"
    }
   ],
   "source": [
    "# Visualize using seaborn (logistic regression)\n",
    "\n",
    "# Set coefficient to absolute values to rank features\n",
    "feature_importance[\"coefficients\"] = feature_importance[\"coefficients\"].abs()\n",
    "\n",
    "# Visualize ranked features using seaborn\n",
    "sns.catplot(x=\"feature_names\", \n",
    "            y=\"coefficients\", \n",
    "            data=feature_importance.sort_values(by=\"coefficients\", ascending=False), \n",
    "            kind=\"bar\",\n",
    "            aspect=5, \n",
    "            palette = \"GnBu_r\")"
   ]
  },
  {
   "cell_type": "code",
   "execution_count": 48,
   "metadata": {},
   "outputs": [
    {
     "name": "stdout",
     "output_type": "stream",
     "text": [
      "Training model...\n",
      "...Done.\n"
     ]
    }
   ],
   "source": [
    "# Build a Decision Tree\n",
    "\n",
    "# Training model\n",
    "# on crée une enveloppe et on attribue un set de valeurs\n",
    "print(\"Training model...\")\n",
    "classifier = DecisionTreeClassifier(\n",
    "            max_depth = 120,\n",
    "            min_samples_split = 60\n",
    ")\n",
    "classifier.fit(X_train, y_train)\n",
    "print(\"...Done.\")"
   ]
  },
  {
   "cell_type": "code",
   "execution_count": 49,
   "metadata": {},
   "outputs": [
    {
     "name": "stdout",
     "output_type": "stream",
     "text": [
      "Predictions on train set...\n",
      "...Done.\n",
      "\n"
     ]
    }
   ],
   "source": [
    "# Predictions on training set\n",
    "print(\"Predictions on train set...\")\n",
    "y_train_pred = classifier.predict(X_train)\n",
    "print(\"...Done.\")\n",
    "print()"
   ]
  },
  {
   "cell_type": "code",
   "execution_count": 50,
   "metadata": {},
   "outputs": [
    {
     "name": "stdout",
     "output_type": "stream",
     "text": [
      "Predictions on test set...\n",
      "...Done.\n",
      "\n"
     ]
    }
   ],
   "source": [
    "# Predictions on test set\n",
    "print(\"Predictions on test set...\")\n",
    "y_test_pred = classifier.predict(X_test)\n",
    "print(\"...Done.\")\n",
    "print()"
   ]
  },
  {
   "cell_type": "code",
   "execution_count": 51,
   "metadata": {},
   "outputs": [
    {
     "name": "stdout",
     "output_type": "stream",
     "text": [
      "--- Assessment of performances ---Decision Tree\n"
     ]
    },
    {
     "data": {
      "image/png": "[encoded data removed]",
      "text/plain": [
       "<Figure size 432x288 with 2 Axes>"
      ]
     },
     "metadata": {
      "needs_background": "light"
     },
     "output_type": "display_data"
    },
    {
     "name": "stdout",
     "output_type": "stream",
     "text": [
      "accuracy-score on train set :  0.71125\n"
     ]
    },
    {
     "data": {
      "image/png": "[encoded data removed]",
      "text/plain": [
       "<Figure size 432x288 with 2 Axes>"
      ]
     },
     "metadata": {
      "needs_background": "light"
     },
     "output_type": "display_data"
    },
    {
     "name": "stdout",
     "output_type": "stream",
     "text": [
      "accuracy-score on test set :  0.645\n"
     ]
    }
   ],
   "source": [
    "# Evaluate your model (decision tree)\n",
    "\n",
    "### Assessment of performances ###\n",
    "print(\"--- Assessment of performances ---Decision Tree\")\n",
    "\n",
    "\n",
    "# Plot confusion matrix\n",
    "cm = plot_confusion_matrix(classifier, X_train, y_train, cmap = plt.cm.GnBu)\n",
    "cm.ax_.set_title(\"Confusion matrix on train set \") # Simply to set a title\n",
    "plt.show() # Show graph\n",
    "print(\"accuracy-score on train set : \", classifier.score(X_train, y_train))\n",
    "\n",
    "\n",
    "cm = plot_confusion_matrix(classifier, X_test, y_test, cmap = plt.cm.GnBu)\n",
    "cm.ax_.set_title(\"Confusion matrix on test set \")\n",
    "plt.show() # Show graph\n",
    "print(\"accuracy-score on test set : \", classifier.score(X_test, y_test))"
   ]
  },
  {
   "cell_type": "code",
   "execution_count": 52,
   "metadata": {},
   "outputs": [
    {
     "data": {
      "text/html": [
       "<div>\n",
       "<style scoped>\n",
       "    .dataframe tbody tr th:only-of-type {\n",
       "        vertical-align: middle;\n",
       "    }\n",
       "\n",
       "    .dataframe tbody tr th {\n",
       "        vertical-align: top;\n",
       "    }\n",
       "\n",
       "    .dataframe thead th {\n",
       "        text-align: right;\n",
       "    }\n",
       "</style>\n",
       "<table border=\"1\" class=\"dataframe\">\n",
       "  <thead>\n",
       "    <tr style=\"text-align: right;\">\n",
       "      <th></th>\n",
       "      <th>feature_names</th>\n",
       "      <th>coefficients</th>\n",
       "    </tr>\n",
       "  </thead>\n",
       "  <tbody>\n",
       "    <tr>\n",
       "      <th>0</th>\n",
       "      <td>Married</td>\n",
       "      <td>0.023722</td>\n",
       "    </tr>\n",
       "    <tr>\n",
       "      <th>1</th>\n",
       "      <td>Single</td>\n",
       "      <td>0.000000</td>\n",
       "    </tr>\n",
       "    <tr>\n",
       "      <th>2</th>\n",
       "      <td>Female</td>\n",
       "      <td>0.000000</td>\n",
       "    </tr>\n",
       "    <tr>\n",
       "      <th>3</th>\n",
       "      <td>Male</td>\n",
       "      <td>0.000000</td>\n",
       "    </tr>\n",
       "    <tr>\n",
       "      <th>4</th>\n",
       "      <td>Bachelors</td>\n",
       "      <td>0.000000</td>\n",
       "    </tr>\n",
       "    <tr>\n",
       "      <th>5</th>\n",
       "      <td>Graduate Degree</td>\n",
       "      <td>0.000000</td>\n",
       "    </tr>\n",
       "    <tr>\n",
       "      <th>6</th>\n",
       "      <td>High School</td>\n",
       "      <td>0.030137</td>\n",
       "    </tr>\n",
       "    <tr>\n",
       "      <th>7</th>\n",
       "      <td>Partial College</td>\n",
       "      <td>0.041126</td>\n",
       "    </tr>\n",
       "    <tr>\n",
       "      <th>8</th>\n",
       "      <td>Partial High School</td>\n",
       "      <td>0.000000</td>\n",
       "    </tr>\n",
       "    <tr>\n",
       "      <th>9</th>\n",
       "      <td>Clerical</td>\n",
       "      <td>0.019294</td>\n",
       "    </tr>\n",
       "    <tr>\n",
       "      <th>10</th>\n",
       "      <td>Management</td>\n",
       "      <td>0.000000</td>\n",
       "    </tr>\n",
       "    <tr>\n",
       "      <th>11</th>\n",
       "      <td>Manual</td>\n",
       "      <td>0.000000</td>\n",
       "    </tr>\n",
       "    <tr>\n",
       "      <th>12</th>\n",
       "      <td>Professional</td>\n",
       "      <td>0.000000</td>\n",
       "    </tr>\n",
       "    <tr>\n",
       "      <th>13</th>\n",
       "      <td>Skilled Manual</td>\n",
       "      <td>0.000000</td>\n",
       "    </tr>\n",
       "    <tr>\n",
       "      <th>14</th>\n",
       "      <td>No</td>\n",
       "      <td>0.000000</td>\n",
       "    </tr>\n",
       "    <tr>\n",
       "      <th>15</th>\n",
       "      <td>Yes</td>\n",
       "      <td>0.015392</td>\n",
       "    </tr>\n",
       "    <tr>\n",
       "      <th>16</th>\n",
       "      <td>0-1 Miles</td>\n",
       "      <td>0.000000</td>\n",
       "    </tr>\n",
       "    <tr>\n",
       "      <th>17</th>\n",
       "      <td>1-2 Miles</td>\n",
       "      <td>0.029160</td>\n",
       "    </tr>\n",
       "    <tr>\n",
       "      <th>18</th>\n",
       "      <td>10+ Miles</td>\n",
       "      <td>0.000000</td>\n",
       "    </tr>\n",
       "    <tr>\n",
       "      <th>19</th>\n",
       "      <td>2-5 Miles</td>\n",
       "      <td>0.061668</td>\n",
       "    </tr>\n",
       "    <tr>\n",
       "      <th>20</th>\n",
       "      <td>5-10 Miles</td>\n",
       "      <td>0.000000</td>\n",
       "    </tr>\n",
       "    <tr>\n",
       "      <th>21</th>\n",
       "      <td>Europe</td>\n",
       "      <td>0.000000</td>\n",
       "    </tr>\n",
       "    <tr>\n",
       "      <th>22</th>\n",
       "      <td>North America</td>\n",
       "      <td>0.025139</td>\n",
       "    </tr>\n",
       "    <tr>\n",
       "      <th>23</th>\n",
       "      <td>Pacific</td>\n",
       "      <td>0.140270</td>\n",
       "    </tr>\n",
       "    <tr>\n",
       "      <th>24</th>\n",
       "      <td>Income</td>\n",
       "      <td>0.127941</td>\n",
       "    </tr>\n",
       "    <tr>\n",
       "      <th>25</th>\n",
       "      <td>Children</td>\n",
       "      <td>0.093084</td>\n",
       "    </tr>\n",
       "    <tr>\n",
       "      <th>26</th>\n",
       "      <td>Cars</td>\n",
       "      <td>0.143836</td>\n",
       "    </tr>\n",
       "    <tr>\n",
       "      <th>27</th>\n",
       "      <td>Age</td>\n",
       "      <td>0.249232</td>\n",
       "    </tr>\n",
       "  </tbody>\n",
       "</table>\n",
       "</div>"
      ],
      "text/plain": [
       "          feature_names  coefficients\n",
       "0               Married      0.023722\n",
       "1                Single      0.000000\n",
       "2                Female      0.000000\n",
       "3                  Male      0.000000\n",
       "4             Bachelors      0.000000\n",
       "5       Graduate Degree      0.000000\n",
       "6           High School      0.030137\n",
       "7       Partial College      0.041126\n",
       "8   Partial High School      0.000000\n",
       "9              Clerical      0.019294\n",
       "10           Management      0.000000\n",
       "11               Manual      0.000000\n",
       "12         Professional      0.000000\n",
       "13       Skilled Manual      0.000000\n",
       "14                   No      0.000000\n",
       "15                  Yes      0.015392\n",
       "16            0-1 Miles      0.000000\n",
       "17            1-2 Miles      0.029160\n",
       "18            10+ Miles      0.000000\n",
       "19            2-5 Miles      0.061668\n",
       "20           5-10 Miles      0.000000\n",
       "21               Europe      0.000000\n",
       "22        North America      0.025139\n",
       "23              Pacific      0.140270\n",
       "24               Income      0.127941\n",
       "25             Children      0.093084\n",
       "26                 Cars      0.143836\n",
       "27                  Age      0.249232"
      ]
     },
     "execution_count": 52,
     "metadata": {},
     "output_type": "execute_result"
    }
   ],
   "source": [
    "# Feature importance (Decision Tree)\n",
    "feature_importance = pd.DataFrame({\n",
    "    \"feature_names\": all_column_names,\n",
    "    \"coefficients\": classifier.feature_importances_\n",
    "})\n",
    "feature_importance"
   ]
  },
  {
   "cell_type": "code",
   "execution_count": 53,
   "metadata": {},
   "outputs": [
    {
     "name": "stdout",
     "output_type": "stream",
     "text": [
      "Features Importance - decision tree\n"
     ]
    },
    {
     "data": {
      "text/plain": [
       "<seaborn.axisgrid.FacetGrid at 0x7fb89fec26a0>"
      ]
     },
     "execution_count": 53,
     "metadata": {},
     "output_type": "execute_result"
    },
    {
     "data": {
      "image/png": "[encoded data removed]",
      "text/plain": [
       "<Figure size 1800x360 with 1 Axes>"
      ]
     },
     "metadata": {
      "needs_background": "light"
     },
     "output_type": "display_data"
    }
   ],
   "source": [
    "# Visualize ranked features using seaborn\n",
    "\n",
    "print(\"Features Importance - decision tree\")\n",
    "      \n",
    "sns.catplot(x=\"feature_names\", \n",
    "            y=\"coefficients\", \n",
    "            data=feature_importance.sort_values(by=\"coefficients\", ascending=False), \n",
    "            kind=\"bar\",\n",
    "            aspect=5,\n",
    "            palette = \"GnBu_r\")"
   ]
  },
  {
   "cell_type": "code",
   "execution_count": 54,
   "metadata": {},
   "outputs": [
    {
     "name": "stdout",
     "output_type": "stream",
     "text": [
      "Training model...\n",
      "...Done.\n"
     ]
    }
   ],
   "source": [
    "# Random Forests\n",
    "\n",
    "# Training model\n",
    "print(\"Training model...\")\n",
    "classifier = RandomForestClassifier(\n",
    "    n_estimators = 60,\n",
    "    max_depth = 200,\n",
    "    min_samples_leaf =20\n",
    ")#on instancie un nouvel objet qui est classifié\n",
    "classifier.fit(X_train, y_train)\n",
    "print(\"...Done.\")"
   ]
  },
  {
   "cell_type": "code",
   "execution_count": 55,
   "metadata": {},
   "outputs": [
    {
     "name": "stdout",
     "output_type": "stream",
     "text": [
      "Predictions on train set...\n",
      "...Done.\n",
      "\n"
     ]
    }
   ],
   "source": [
    "# Predictions on training set\n",
    "print(\"Predictions on train set...\")\n",
    "y_train_pred = classifier.predict(X_train)\n",
    "print(\"...Done.\")\n",
    "print()"
   ]
  },
  {
   "cell_type": "code",
   "execution_count": 56,
   "metadata": {},
   "outputs": [
    {
     "name": "stdout",
     "output_type": "stream",
     "text": [
      "Predictions on test set...\n",
      "...Done.\n",
      "\n"
     ]
    }
   ],
   "source": [
    "# Predictions on test set\n",
    "print(\"Predictions on test set...\")\n",
    "y_test_pred = classifier.predict(X_test)\n",
    "print(\"...Done.\")\n",
    "print()"
   ]
  },
  {
   "cell_type": "code",
   "execution_count": 57,
   "metadata": {},
   "outputs": [
    {
     "name": "stdout",
     "output_type": "stream",
     "text": [
      "--- Assessment of performances ---random forest\n"
     ]
    },
    {
     "data": {
      "image/png": "[encoded data removed]",
      "text/plain": [
       "<Figure size 432x288 with 2 Axes>"
      ]
     },
     "metadata": {
      "needs_background": "light"
     },
     "output_type": "display_data"
    },
    {
     "name": "stdout",
     "output_type": "stream",
     "text": [
      "accuracy-score on train set :  0.7225\n"
     ]
    },
    {
     "data": {
      "image/png": "[encoded data removed]",
      "text/plain": [
       "<Figure size 432x288 with 2 Axes>"
      ]
     },
     "metadata": {
      "needs_background": "light"
     },
     "output_type": "display_data"
    },
    {
     "name": "stdout",
     "output_type": "stream",
     "text": [
      "accuracy-score on test set :  0.64\n"
     ]
    }
   ],
   "source": [
    "# Evaluate your model (random forest)\n",
    "\n",
    "### Assessment of performances ###\n",
    "print(\"--- Assessment of performances ---random forest\")\n",
    "\n",
    "\n",
    "# Plot confusion matrix\n",
    "cm = plot_confusion_matrix(classifier, X_train, y_train, cmap = plt.cm.GnBu)\n",
    "cm.ax_.set_title(\"Confusion matrix on train set \") # Simply to set a title\n",
    "plt.show() # Show graph\n",
    "print(\"accuracy-score on train set : \", classifier.score(X_train, y_train))\n",
    "\n",
    "\n",
    "cm = plot_confusion_matrix(classifier, X_test, y_test,cmap = plt.cm.GnBu)\n",
    "cm.ax_.set_title(\"Confusion matrix on test set \")\n",
    "plt.show() # Show graph\n",
    "print(\"accuracy-score on test set : \", classifier.score(X_test, y_test))"
   ]
  },
  {
   "cell_type": "code",
   "execution_count": 58,
   "metadata": {},
   "outputs": [
    {
     "data": {
      "text/html": [
       "<div>\n",
       "<style scoped>\n",
       "    .dataframe tbody tr th:only-of-type {\n",
       "        vertical-align: middle;\n",
       "    }\n",
       "\n",
       "    .dataframe tbody tr th {\n",
       "        vertical-align: top;\n",
       "    }\n",
       "\n",
       "    .dataframe thead th {\n",
       "        text-align: right;\n",
       "    }\n",
       "</style>\n",
       "<table border=\"1\" class=\"dataframe\">\n",
       "  <thead>\n",
       "    <tr style=\"text-align: right;\">\n",
       "      <th></th>\n",
       "      <th>feature_names</th>\n",
       "      <th>coefficients</th>\n",
       "    </tr>\n",
       "  </thead>\n",
       "  <tbody>\n",
       "    <tr>\n",
       "      <th>0</th>\n",
       "      <td>Married</td>\n",
       "      <td>0.042446</td>\n",
       "    </tr>\n",
       "    <tr>\n",
       "      <th>1</th>\n",
       "      <td>Single</td>\n",
       "      <td>0.067293</td>\n",
       "    </tr>\n",
       "    <tr>\n",
       "      <th>2</th>\n",
       "      <td>Female</td>\n",
       "      <td>0.014468</td>\n",
       "    </tr>\n",
       "    <tr>\n",
       "      <th>3</th>\n",
       "      <td>Male</td>\n",
       "      <td>0.016441</td>\n",
       "    </tr>\n",
       "    <tr>\n",
       "      <th>4</th>\n",
       "      <td>Bachelors</td>\n",
       "      <td>0.023304</td>\n",
       "    </tr>\n",
       "    <tr>\n",
       "      <th>5</th>\n",
       "      <td>Graduate Degree</td>\n",
       "      <td>0.006451</td>\n",
       "    </tr>\n",
       "    <tr>\n",
       "      <th>6</th>\n",
       "      <td>High School</td>\n",
       "      <td>0.006517</td>\n",
       "    </tr>\n",
       "    <tr>\n",
       "      <th>7</th>\n",
       "      <td>Partial College</td>\n",
       "      <td>0.024056</td>\n",
       "    </tr>\n",
       "    <tr>\n",
       "      <th>8</th>\n",
       "      <td>Partial High School</td>\n",
       "      <td>0.021374</td>\n",
       "    </tr>\n",
       "    <tr>\n",
       "      <th>9</th>\n",
       "      <td>Clerical</td>\n",
       "      <td>0.012914</td>\n",
       "    </tr>\n",
       "    <tr>\n",
       "      <th>10</th>\n",
       "      <td>Management</td>\n",
       "      <td>0.004940</td>\n",
       "    </tr>\n",
       "    <tr>\n",
       "      <th>11</th>\n",
       "      <td>Manual</td>\n",
       "      <td>0.003047</td>\n",
       "    </tr>\n",
       "    <tr>\n",
       "      <th>12</th>\n",
       "      <td>Professional</td>\n",
       "      <td>0.013933</td>\n",
       "    </tr>\n",
       "    <tr>\n",
       "      <th>13</th>\n",
       "      <td>Skilled Manual</td>\n",
       "      <td>0.009560</td>\n",
       "    </tr>\n",
       "    <tr>\n",
       "      <th>14</th>\n",
       "      <td>No</td>\n",
       "      <td>0.007603</td>\n",
       "    </tr>\n",
       "    <tr>\n",
       "      <th>15</th>\n",
       "      <td>Yes</td>\n",
       "      <td>0.007688</td>\n",
       "    </tr>\n",
       "    <tr>\n",
       "      <th>16</th>\n",
       "      <td>0-1 Miles</td>\n",
       "      <td>0.038699</td>\n",
       "    </tr>\n",
       "    <tr>\n",
       "      <th>17</th>\n",
       "      <td>1-2 Miles</td>\n",
       "      <td>0.005414</td>\n",
       "    </tr>\n",
       "    <tr>\n",
       "      <th>18</th>\n",
       "      <td>10+ Miles</td>\n",
       "      <td>0.016358</td>\n",
       "    </tr>\n",
       "    <tr>\n",
       "      <th>19</th>\n",
       "      <td>2-5 Miles</td>\n",
       "      <td>0.022014</td>\n",
       "    </tr>\n",
       "    <tr>\n",
       "      <th>20</th>\n",
       "      <td>5-10 Miles</td>\n",
       "      <td>0.018292</td>\n",
       "    </tr>\n",
       "    <tr>\n",
       "      <th>21</th>\n",
       "      <td>Europe</td>\n",
       "      <td>0.012786</td>\n",
       "    </tr>\n",
       "    <tr>\n",
       "      <th>22</th>\n",
       "      <td>North America</td>\n",
       "      <td>0.027852</td>\n",
       "    </tr>\n",
       "    <tr>\n",
       "      <th>23</th>\n",
       "      <td>Pacific</td>\n",
       "      <td>0.039685</td>\n",
       "    </tr>\n",
       "    <tr>\n",
       "      <th>24</th>\n",
       "      <td>Income</td>\n",
       "      <td>0.098458</td>\n",
       "    </tr>\n",
       "    <tr>\n",
       "      <th>25</th>\n",
       "      <td>Children</td>\n",
       "      <td>0.105147</td>\n",
       "    </tr>\n",
       "    <tr>\n",
       "      <th>26</th>\n",
       "      <td>Cars</td>\n",
       "      <td>0.145521</td>\n",
       "    </tr>\n",
       "    <tr>\n",
       "      <th>27</th>\n",
       "      <td>Age</td>\n",
       "      <td>0.187741</td>\n",
       "    </tr>\n",
       "  </tbody>\n",
       "</table>\n",
       "</div>"
      ],
      "text/plain": [
       "          feature_names  coefficients\n",
       "0               Married      0.042446\n",
       "1                Single      0.067293\n",
       "2                Female      0.014468\n",
       "3                  Male      0.016441\n",
       "4             Bachelors      0.023304\n",
       "5       Graduate Degree      0.006451\n",
       "6           High School      0.006517\n",
       "7       Partial College      0.024056\n",
       "8   Partial High School      0.021374\n",
       "9              Clerical      0.012914\n",
       "10           Management      0.004940\n",
       "11               Manual      0.003047\n",
       "12         Professional      0.013933\n",
       "13       Skilled Manual      0.009560\n",
       "14                   No      0.007603\n",
       "15                  Yes      0.007688\n",
       "16            0-1 Miles      0.038699\n",
       "17            1-2 Miles      0.005414\n",
       "18            10+ Miles      0.016358\n",
       "19            2-5 Miles      0.022014\n",
       "20           5-10 Miles      0.018292\n",
       "21               Europe      0.012786\n",
       "22        North America      0.027852\n",
       "23              Pacific      0.039685\n",
       "24               Income      0.098458\n",
       "25             Children      0.105147\n",
       "26                 Cars      0.145521\n",
       "27                  Age      0.187741"
      ]
     },
     "execution_count": 58,
     "metadata": {},
     "output_type": "execute_result"
    }
   ],
   "source": [
    "# Feature importance (random forest)\n",
    "feature_importance = pd.DataFrame({\n",
    "    \"feature_names\": all_column_names,\n",
    "    \"coefficients\": classifier.feature_importances_\n",
    "                                        \n",
    "})\n",
    "\n",
    "feature_importance"
   ]
  },
  {
   "cell_type": "code",
   "execution_count": 59,
   "metadata": {},
   "outputs": [
    {
     "name": "stdout",
     "output_type": "stream",
     "text": [
      "Features Importance - random forest\n"
     ]
    },
    {
     "data": {
      "text/plain": [
       "<seaborn.axisgrid.FacetGrid at 0x7fb89fd19370>"
      ]
     },
     "execution_count": 59,
     "metadata": {},
     "output_type": "execute_result"
    },
    {
     "data": {
      "image/png": "[encoded data removed]",
      "text/plain": [
       "<Figure size 1800x360 with 1 Axes>"
      ]
     },
     "metadata": {
      "needs_background": "light"
     },
     "output_type": "display_data"
    }
   ],
   "source": [
    "# Visualize ranked features using seaborn\n",
    "print(\"Features Importance - random forest\")\n",
    "\n",
    "sns.catplot(x=\"feature_names\", \n",
    "            y=\"coefficients\", \n",
    "            data=feature_importance.sort_values(by=\"coefficients\", ascending=False), \n",
    "            kind=\"bar\",\n",
    "            aspect=5,\n",
    "            palette = \"GnBu_r\")"
   ]
  },
  {
   "cell_type": "code",
   "execution_count": null,
   "metadata": {},
   "outputs": [],
   "source": []
  }
 ],
 "metadata": {
  "kernelspec": {
   "display_name": "Python 3",
   "language": "python",
   "name": "python3"
  },
  "language_info": {
   "codemirror_mode": {
    "name": "ipython",
    "version": 3
   },
   "file_extension": ".py",
   "mimetype": "text/x-python",
   "name": "python",
   "nbconvert_exporter": "python",
   "pygments_lexer": "ipython3",
   "version": "3.8.6"
  }
 },
 "nbformat": 4,
 "nbformat_minor": 4
}
